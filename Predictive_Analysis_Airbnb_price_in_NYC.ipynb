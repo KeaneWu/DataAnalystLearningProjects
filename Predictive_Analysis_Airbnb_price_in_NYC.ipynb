{
 "cells": [
  {
   "cell_type": "markdown",
   "metadata": {},
   "source": [
    "# AirBnB listings in major US cities\n",
    "\n",
    "Zirong Wu, Ram Das, Bindu Vasireddy"
   ]
  },
  {
   "cell_type": "markdown",
   "metadata": {},
   "source": [
    "# Problem framing and Goal\n",
    "\n",
    "## Introduction \n",
    "This data is from Deloitte Machine Learning Competition.\n",
    "\n",
    "The aim of this competition was to predict the price of AirBnB listings in major U.S. cities.\n",
    "\n",
    "In this case, we would like to ** predict the price of Airbnb listings in New York City **.\n",
    "\n",
    "Pleace click [Link](https://www.kaggle.com/rudymizrahi/airbnb-listings-in-major-us-cities-deloitte-ml) to assess the data source on Kaggle.\n",
    "\n",
    "Reference kernel [How I ranked 5th/+160 in Deloitte's ML Competition](https://www.kaggle.com/rudymizrahi/how-i-ranked-5th-160-in-deloitte-s-ml-competition)."
   ]
  },
  {
   "cell_type": "code",
   "execution_count": 2,
   "metadata": {},
   "outputs": [],
   "source": [
    "# packages. At this point we are not importing the sklearn.\n",
    "import numpy as np\n",
    "import pandas as pd\n",
    "import seaborn as sns\n",
    "import datetime\n",
    "import matplotlib.pyplot as plt\n",
    "import kaggle\n",
    "from zipfile import ZipFile\n",
    "import warnings\n",
    "warnings.filterwarnings(action='ignore')\n",
    "plt.style.use('ggplot')\n",
    "sns.set_style('darkgrid')\n",
    "plt.rcParams['figure.figsize'] = 12, 8\n",
    "plt.rcParams['axes.labelsize'] = 14\n",
    "plt.rcParams['xtick.labelsize'] = 12\n",
    "plt.rcParams['ytick.labelsize'] = 12\n",
    "%matplotlib inline"
   ]
  },
  {
   "cell_type": "markdown",
   "metadata": {},
   "source": [
    "## Kaggle API installation\n",
    "\n",
    "To use the Kaggle API, sign up for a Kaggle account at https://www.kaggle.com. Then go to the 'Account' tab of your user profile (https://www.kaggle.com/<username>/account) and select 'Create API Token'. This will trigger the download of kaggle.json, a file containing your API credentials. Place this file in the location ~/.kaggle/kaggle.json (on Windows in the location C:\\Users\\<Windows-username>\\.kaggle\\kaggle.json).\n",
    "\n",
    "Run the following command to access the Kaggle API using the command line:\n",
    "\n",
    "`pip install kaggle`\n",
    "\n",
    "For your security, ensure that other users of your computer do not have read access to your credentials. On Unix-based systems you can do this with the following command:\n",
    "\n",
    "`chmod 600 ~/.kaggle/kaggle.json`\n",
    "\n",
    "The API [source](https://github.com/Kaggle/kaggle-api)."
   ]
  },
  {
   "cell_type": "markdown",
   "metadata": {},
   "source": [
    "# Get the data"
   ]
  },
  {
   "cell_type": "markdown",
   "metadata": {},
   "source": [
    "# download the data from Kaggle\n"
   ]
  },
  {
   "cell_type": "code",
   "execution_count": 3,
   "metadata": {},
   "outputs": [
    {
     "data": {
      "text/plain": [
       "'/Users/wuzirong/Documents/UMLMSBA/AdvancedDatamining/py3'"
      ]
     },
     "execution_count": 3,
     "metadata": {},
     "output_type": "execute_result"
    }
   ],
   "source": [
    "pwd"
   ]
  },
  {
   "cell_type": "code",
   "execution_count": null,
   "metadata": {},
   "outputs": [],
   "source": [
    "# !kaggle datasets download -d rudymizrahi/airbnb-listings-in-major-us-cities-deloitte-ml --wp"
   ]
  },
  {
   "cell_type": "code",
   "execution_count": 4,
   "metadata": {},
   "outputs": [],
   "source": [
    "file = 'airbnb-listings-in-major-us-cities-deloitte-ml.zip'"
   ]
  },
  {
   "cell_type": "code",
   "execution_count": 5,
   "metadata": {},
   "outputs": [],
   "source": [
    "# Open the downloaded data and read the zip file and read the data file.\n",
    "with ZipFile(file) as z:\n",
    "    with z.open('train.csv') as f:\n",
    "        ogdf = pd.read_csv(f)"
   ]
  },
  {
   "cell_type": "code",
   "execution_count": 6,
   "metadata": {},
   "outputs": [],
   "source": [
    "# set the copy of original data for wrangling\n",
    "df = ogdf.loc[ogdf.city == 'NYC'].copy()"
   ]
  },
  {
   "cell_type": "markdown",
   "metadata": {},
   "source": [
    "# Data Preprocessing"
   ]
  },
  {
   "cell_type": "code",
   "execution_count": 7,
   "metadata": {
    "scrolled": true
   },
   "outputs": [
    {
     "data": {
      "text/html": [
       "<div>\n",
       "<style scoped>\n",
       "    .dataframe tbody tr th:only-of-type {\n",
       "        vertical-align: middle;\n",
       "    }\n",
       "\n",
       "    .dataframe tbody tr th {\n",
       "        vertical-align: top;\n",
       "    }\n",
       "\n",
       "    .dataframe thead th {\n",
       "        text-align: right;\n",
       "    }\n",
       "</style>\n",
       "<table border=\"1\" class=\"dataframe\">\n",
       "  <thead>\n",
       "    <tr style=\"text-align: right;\">\n",
       "      <th></th>\n",
       "      <th>id</th>\n",
       "      <th>log_price</th>\n",
       "      <th>property_type</th>\n",
       "      <th>room_type</th>\n",
       "      <th>amenities</th>\n",
       "      <th>accommodates</th>\n",
       "      <th>bathrooms</th>\n",
       "      <th>bed_type</th>\n",
       "      <th>cancellation_policy</th>\n",
       "      <th>cleaning_fee</th>\n",
       "      <th>...</th>\n",
       "      <th>latitude</th>\n",
       "      <th>longitude</th>\n",
       "      <th>name</th>\n",
       "      <th>neighbourhood</th>\n",
       "      <th>number_of_reviews</th>\n",
       "      <th>review_scores_rating</th>\n",
       "      <th>thumbnail_url</th>\n",
       "      <th>zipcode</th>\n",
       "      <th>bedrooms</th>\n",
       "      <th>beds</th>\n",
       "    </tr>\n",
       "  </thead>\n",
       "  <tbody>\n",
       "    <tr>\n",
       "      <th>0</th>\n",
       "      <td>6901257</td>\n",
       "      <td>5.010635</td>\n",
       "      <td>Apartment</td>\n",
       "      <td>Entire home/apt</td>\n",
       "      <td>{\"Wireless Internet\",\"Air conditioning\",Kitche...</td>\n",
       "      <td>3</td>\n",
       "      <td>1.0</td>\n",
       "      <td>Real Bed</td>\n",
       "      <td>strict</td>\n",
       "      <td>True</td>\n",
       "      <td>...</td>\n",
       "      <td>40.696524</td>\n",
       "      <td>-73.991617</td>\n",
       "      <td>Beautiful brownstone 1-bedroom</td>\n",
       "      <td>Brooklyn Heights</td>\n",
       "      <td>2</td>\n",
       "      <td>100.0</td>\n",
       "      <td>https://a0.muscache.com/im/pictures/6d7cbbf7-c...</td>\n",
       "      <td>11201</td>\n",
       "      <td>1.0</td>\n",
       "      <td>1.0</td>\n",
       "    </tr>\n",
       "    <tr>\n",
       "      <th>1</th>\n",
       "      <td>6304928</td>\n",
       "      <td>5.129899</td>\n",
       "      <td>Apartment</td>\n",
       "      <td>Entire home/apt</td>\n",
       "      <td>{\"Wireless Internet\",\"Air conditioning\",Kitche...</td>\n",
       "      <td>7</td>\n",
       "      <td>1.0</td>\n",
       "      <td>Real Bed</td>\n",
       "      <td>strict</td>\n",
       "      <td>True</td>\n",
       "      <td>...</td>\n",
       "      <td>40.766115</td>\n",
       "      <td>-73.989040</td>\n",
       "      <td>Superb 3BR Apt Located Near Times Square</td>\n",
       "      <td>Hell's Kitchen</td>\n",
       "      <td>6</td>\n",
       "      <td>93.0</td>\n",
       "      <td>https://a0.muscache.com/im/pictures/348a55fe-4...</td>\n",
       "      <td>10019</td>\n",
       "      <td>3.0</td>\n",
       "      <td>3.0</td>\n",
       "    </tr>\n",
       "    <tr>\n",
       "      <th>2</th>\n",
       "      <td>7919400</td>\n",
       "      <td>4.976734</td>\n",
       "      <td>Apartment</td>\n",
       "      <td>Entire home/apt</td>\n",
       "      <td>{TV,\"Cable TV\",\"Wireless Internet\",\"Air condit...</td>\n",
       "      <td>5</td>\n",
       "      <td>1.0</td>\n",
       "      <td>Real Bed</td>\n",
       "      <td>moderate</td>\n",
       "      <td>True</td>\n",
       "      <td>...</td>\n",
       "      <td>40.808110</td>\n",
       "      <td>-73.943756</td>\n",
       "      <td>The Garden Oasis</td>\n",
       "      <td>Harlem</td>\n",
       "      <td>10</td>\n",
       "      <td>92.0</td>\n",
       "      <td>https://a0.muscache.com/im/pictures/6fae5362-9...</td>\n",
       "      <td>10027</td>\n",
       "      <td>1.0</td>\n",
       "      <td>3.0</td>\n",
       "    </tr>\n",
       "    <tr>\n",
       "      <th>10</th>\n",
       "      <td>5578513</td>\n",
       "      <td>4.605170</td>\n",
       "      <td>Apartment</td>\n",
       "      <td>Private room</td>\n",
       "      <td>{Internet,\"Wireless Internet\",\"Air conditionin...</td>\n",
       "      <td>2</td>\n",
       "      <td>1.0</td>\n",
       "      <td>Real Bed</td>\n",
       "      <td>strict</td>\n",
       "      <td>True</td>\n",
       "      <td>...</td>\n",
       "      <td>40.723883</td>\n",
       "      <td>-73.983880</td>\n",
       "      <td>Large East Village Bedroom To Let!</td>\n",
       "      <td>Alphabet City</td>\n",
       "      <td>82</td>\n",
       "      <td>93.0</td>\n",
       "      <td>https://a0.muscache.com/im/pictures/21726900/1...</td>\n",
       "      <td>10009.0</td>\n",
       "      <td>1.0</td>\n",
       "      <td>1.0</td>\n",
       "    </tr>\n",
       "    <tr>\n",
       "      <th>18</th>\n",
       "      <td>17589436</td>\n",
       "      <td>4.882802</td>\n",
       "      <td>Apartment</td>\n",
       "      <td>Entire home/apt</td>\n",
       "      <td>{TV,\"Cable TV\",Internet,\"Wireless Internet\",\"A...</td>\n",
       "      <td>2</td>\n",
       "      <td>1.0</td>\n",
       "      <td>Real Bed</td>\n",
       "      <td>strict</td>\n",
       "      <td>True</td>\n",
       "      <td>...</td>\n",
       "      <td>40.719086</td>\n",
       "      <td>-73.990285</td>\n",
       "      <td>Amazing LES apt - cool, bright...</td>\n",
       "      <td>Lower East Side</td>\n",
       "      <td>26</td>\n",
       "      <td>86.0</td>\n",
       "      <td>NaN</td>\n",
       "      <td>10002</td>\n",
       "      <td>1.0</td>\n",
       "      <td>2.0</td>\n",
       "    </tr>\n",
       "  </tbody>\n",
       "</table>\n",
       "<p>5 rows × 29 columns</p>\n",
       "</div>"
      ],
      "text/plain": [
       "          id  log_price property_type        room_type  \\\n",
       "0    6901257   5.010635     Apartment  Entire home/apt   \n",
       "1    6304928   5.129899     Apartment  Entire home/apt   \n",
       "2    7919400   4.976734     Apartment  Entire home/apt   \n",
       "10   5578513   4.605170     Apartment     Private room   \n",
       "18  17589436   4.882802     Apartment  Entire home/apt   \n",
       "\n",
       "                                            amenities  accommodates  \\\n",
       "0   {\"Wireless Internet\",\"Air conditioning\",Kitche...             3   \n",
       "1   {\"Wireless Internet\",\"Air conditioning\",Kitche...             7   \n",
       "2   {TV,\"Cable TV\",\"Wireless Internet\",\"Air condit...             5   \n",
       "10  {Internet,\"Wireless Internet\",\"Air conditionin...             2   \n",
       "18  {TV,\"Cable TV\",Internet,\"Wireless Internet\",\"A...             2   \n",
       "\n",
       "    bathrooms  bed_type cancellation_policy  cleaning_fee  ...    latitude  \\\n",
       "0         1.0  Real Bed              strict          True  ...   40.696524   \n",
       "1         1.0  Real Bed              strict          True  ...   40.766115   \n",
       "2         1.0  Real Bed            moderate          True  ...   40.808110   \n",
       "10        1.0  Real Bed              strict          True  ...   40.723883   \n",
       "18        1.0  Real Bed              strict          True  ...   40.719086   \n",
       "\n",
       "    longitude                                      name     neighbourhood  \\\n",
       "0  -73.991617            Beautiful brownstone 1-bedroom  Brooklyn Heights   \n",
       "1  -73.989040  Superb 3BR Apt Located Near Times Square    Hell's Kitchen   \n",
       "2  -73.943756                          The Garden Oasis            Harlem   \n",
       "10 -73.983880        Large East Village Bedroom To Let!     Alphabet City   \n",
       "18 -73.990285         Amazing LES apt - cool, bright...   Lower East Side   \n",
       "\n",
       "   number_of_reviews review_scores_rating  \\\n",
       "0                  2                100.0   \n",
       "1                  6                 93.0   \n",
       "2                 10                 92.0   \n",
       "10                82                 93.0   \n",
       "18                26                 86.0   \n",
       "\n",
       "                                        thumbnail_url  zipcode bedrooms  beds  \n",
       "0   https://a0.muscache.com/im/pictures/6d7cbbf7-c...    11201      1.0   1.0  \n",
       "1   https://a0.muscache.com/im/pictures/348a55fe-4...    10019      3.0   3.0  \n",
       "2   https://a0.muscache.com/im/pictures/6fae5362-9...    10027      1.0   3.0  \n",
       "10  https://a0.muscache.com/im/pictures/21726900/1...  10009.0      1.0   1.0  \n",
       "18                                                NaN    10002      1.0   2.0  \n",
       "\n",
       "[5 rows x 29 columns]"
      ]
     },
     "execution_count": 7,
     "metadata": {},
     "output_type": "execute_result"
    }
   ],
   "source": [
    "df.head()"
   ]
  },
  {
   "cell_type": "code",
   "execution_count": 8,
   "metadata": {
    "scrolled": true
   },
   "outputs": [
    {
     "name": "stdout",
     "output_type": "stream",
     "text": [
      "<class 'pandas.core.frame.DataFrame'>\n",
      "Int64Index: 32349 entries, 0 to 74109\n",
      "Data columns (total 29 columns):\n",
      "id                        32349 non-null int64\n",
      "log_price                 32349 non-null float64\n",
      "property_type             32349 non-null object\n",
      "room_type                 32349 non-null object\n",
      "amenities                 32349 non-null object\n",
      "accommodates              32349 non-null int64\n",
      "bathrooms                 32250 non-null float64\n",
      "bed_type                  32349 non-null object\n",
      "cancellation_policy       32349 non-null object\n",
      "cleaning_fee              32349 non-null bool\n",
      "city                      32349 non-null object\n",
      "description               32349 non-null object\n",
      "first_review              25491 non-null object\n",
      "host_has_profile_pic      32173 non-null object\n",
      "host_identity_verified    32173 non-null object\n",
      "host_response_rate        22389 non-null object\n",
      "host_since                32173 non-null object\n",
      "instant_bookable          32349 non-null object\n",
      "last_review               25517 non-null object\n",
      "latitude                  32349 non-null float64\n",
      "longitude                 32349 non-null float64\n",
      "name                      32349 non-null object\n",
      "neighbourhood             32341 non-null object\n",
      "number_of_reviews         32349 non-null int64\n",
      "review_scores_rating      25028 non-null float64\n",
      "thumbnail_url             29934 non-null object\n",
      "zipcode                   31903 non-null object\n",
      "bedrooms                  32302 non-null float64\n",
      "beds                      32284 non-null float64\n",
      "dtypes: bool(1), float64(7), int64(3), object(18)\n",
      "memory usage: 7.2+ MB\n"
     ]
    }
   ],
   "source": [
    "df.info()"
   ]
  },
  {
   "cell_type": "code",
   "execution_count": 9,
   "metadata": {
    "scrolled": false
   },
   "outputs": [
    {
     "data": {
      "text/plain": [
       "strict             14475\n",
       "flexible           10013\n",
       "moderate            7851\n",
       "super_strict_30        9\n",
       "super_strict_60        1\n",
       "Name: cancellation_policy, dtype: int64"
      ]
     },
     "execution_count": 9,
     "metadata": {},
     "output_type": "execute_result"
    }
   ],
   "source": [
    "df.cancellation_policy.value_counts()"
   ]
  },
  {
   "cell_type": "code",
   "execution_count": 10,
   "metadata": {
    "scrolled": true
   },
   "outputs": [
    {
     "data": {
      "text/plain": [
       "Entire home/apt    16243\n",
       "Private room       15299\n",
       "Shared room          807\n",
       "Name: room_type, dtype: int64"
      ]
     },
     "execution_count": 10,
     "metadata": {},
     "output_type": "execute_result"
    }
   ],
   "source": [
    "df.room_type.value_counts()"
   ]
  },
  {
   "cell_type": "code",
   "execution_count": 11,
   "metadata": {},
   "outputs": [
    {
     "data": {
      "text/plain": [
       "t    32076\n",
       "f       97\n",
       "Name: host_has_profile_pic, dtype: int64"
      ]
     },
     "execution_count": 11,
     "metadata": {},
     "output_type": "execute_result"
    }
   ],
   "source": [
    "df.host_has_profile_pic.value_counts()"
   ]
  },
  {
   "cell_type": "code",
   "execution_count": 12,
   "metadata": {
    "scrolled": true
   },
   "outputs": [
    {
     "data": {
      "text/plain": [
       "t    20507\n",
       "f    11666\n",
       "Name: host_identity_verified, dtype: int64"
      ]
     },
     "execution_count": 12,
     "metadata": {},
     "output_type": "execute_result"
    }
   ],
   "source": [
    "df.host_identity_verified.value_counts()"
   ]
  },
  {
   "cell_type": "code",
   "execution_count": 13,
   "metadata": {},
   "outputs": [
    {
     "data": {
      "text/plain": [
       "100%    17241\n",
       "90%      1092\n",
       "80%       577\n",
       "0%        392\n",
       "50%       302\n",
       "70%       249\n",
       "67%       202\n",
       "75%       187\n",
       "60%       184\n",
       "89%       139\n",
       "88%       127\n",
       "83%       125\n",
       "86%       118\n",
       "97%       110\n",
       "92%       106\n",
       "95%       105\n",
       "93%       103\n",
       "94%       100\n",
       "33%        72\n",
       "96%        71\n",
       "91%        69\n",
       "40%        69\n",
       "98%        62\n",
       "99%        55\n",
       "78%        41\n",
       "25%        39\n",
       "71%        39\n",
       "63%        34\n",
       "82%        32\n",
       "57%        31\n",
       "        ...  \n",
       "44%        10\n",
       "76%         9\n",
       "17%         9\n",
       "64%         9\n",
       "69%         8\n",
       "46%         7\n",
       "38%         7\n",
       "10%         6\n",
       "58%         6\n",
       "53%         4\n",
       "68%         4\n",
       "22%         3\n",
       "65%         3\n",
       "26%         3\n",
       "66%         2\n",
       "36%         2\n",
       "54%         2\n",
       "14%         2\n",
       "35%         2\n",
       "47%         2\n",
       "59%         2\n",
       "61%         1\n",
       "21%         1\n",
       "72%         1\n",
       "27%         1\n",
       "52%         1\n",
       "62%         1\n",
       "15%         1\n",
       "41%         1\n",
       "6%          1\n",
       "Name: host_response_rate, Length: 74, dtype: int64"
      ]
     },
     "execution_count": 13,
     "metadata": {},
     "output_type": "execute_result"
    }
   ],
   "source": [
    "df.host_response_rate.value_counts()"
   ]
  },
  {
   "cell_type": "code",
   "execution_count": 14,
   "metadata": {
    "scrolled": true
   },
   "outputs": [
    {
     "data": {
      "text/plain": [
       "2017-09-04    156\n",
       "2017-01-01    145\n",
       "2017-01-02    129\n",
       "2016-01-02    123\n",
       "2016-01-03    106\n",
       "2016-01-05     86\n",
       "2017-07-31     85\n",
       "2016-09-05     84\n",
       "2017-09-10     82\n",
       "2017-09-03     81\n",
       "2015-09-21     80\n",
       "2017-07-30     79\n",
       "2017-09-17     77\n",
       "2017-08-13     72\n",
       "2017-08-20     71\n",
       "2017-04-16     71\n",
       "2017-06-25     68\n",
       "2015-09-07     68\n",
       "2017-07-23     67\n",
       "2017-07-16     67\n",
       "2016-01-01     67\n",
       "2017-08-06     66\n",
       "2017-08-07     65\n",
       "2017-05-21     65\n",
       "2017-07-09     62\n",
       "2017-07-01     61\n",
       "2017-08-27     60\n",
       "2017-09-05     57\n",
       "2017-01-03     57\n",
       "2016-11-27     55\n",
       "             ... \n",
       "2010-11-15      1\n",
       "2015-01-17      1\n",
       "2012-12-04      1\n",
       "2011-02-27      1\n",
       "2013-01-25      1\n",
       "2010-07-16      1\n",
       "2010-01-14      1\n",
       "2013-02-16      1\n",
       "2011-10-05      1\n",
       "2010-10-18      1\n",
       "2016-01-22      1\n",
       "2011-06-11      1\n",
       "2011-09-24      1\n",
       "2009-12-13      1\n",
       "2011-07-16      1\n",
       "2011-04-22      1\n",
       "2012-12-14      1\n",
       "2011-09-02      1\n",
       "2012-06-23      1\n",
       "2012-11-16      1\n",
       "2011-06-21      1\n",
       "2011-02-01      1\n",
       "2011-07-19      1\n",
       "2012-07-03      1\n",
       "2014-03-16      1\n",
       "2011-08-03      1\n",
       "2011-04-24      1\n",
       "2013-07-03      1\n",
       "2011-07-29      1\n",
       "2012-05-10      1\n",
       "Name: first_review, Length: 2264, dtype: int64"
      ]
     },
     "execution_count": 14,
     "metadata": {},
     "output_type": "execute_result"
    }
   ],
   "source": [
    "df.first_review.value_counts()"
   ]
  },
  {
   "cell_type": "code",
   "execution_count": 15,
   "metadata": {
    "scrolled": true
   },
   "outputs": [
    {
     "data": {
      "text/plain": [
       "2017-09-24    1032\n",
       "2017-09-17     929\n",
       "2017-09-18     709\n",
       "2017-09-25     597\n",
       "2017-10-01     542\n",
       "2017-09-16     525\n",
       "2017-09-04     509\n",
       "2017-09-30     456\n",
       "2017-09-10     447\n",
       "2017-09-28     446\n",
       "2017-09-23     443\n",
       "2017-09-15     441\n",
       "2017-09-29     429\n",
       "2017-09-22     417\n",
       "2017-09-26     403\n",
       "2017-09-27     401\n",
       "2017-09-19     368\n",
       "2017-09-14     353\n",
       "2017-09-20     351\n",
       "2017-09-21     334\n",
       "2017-09-11     330\n",
       "2017-09-13     321\n",
       "2017-09-12     288\n",
       "2017-09-03     260\n",
       "2017-09-05     220\n",
       "2017-09-09     214\n",
       "2017-08-27     203\n",
       "2017-01-01     193\n",
       "2017-09-08     184\n",
       "2017-08-31     178\n",
       "              ... \n",
       "2015-06-07       1\n",
       "2015-02-16       1\n",
       "2013-12-02       1\n",
       "2014-10-16       1\n",
       "2013-12-04       1\n",
       "2015-05-26       1\n",
       "2014-05-13       1\n",
       "2014-01-11       1\n",
       "2015-10-23       1\n",
       "2015-04-13       1\n",
       "2014-06-06       1\n",
       "2013-12-14       1\n",
       "2015-03-30       1\n",
       "2014-05-08       1\n",
       "2014-08-28       1\n",
       "2011-05-12       1\n",
       "2015-01-21       1\n",
       "2015-05-10       1\n",
       "2010-12-31       1\n",
       "2014-10-02       1\n",
       "2016-02-10       1\n",
       "2014-04-25       1\n",
       "2014-10-15       1\n",
       "2017-02-10       1\n",
       "2013-09-22       1\n",
       "2015-02-13       1\n",
       "2013-05-31       1\n",
       "2013-06-30       1\n",
       "2015-05-13       1\n",
       "2014-12-19       1\n",
       "Name: last_review, Length: 1156, dtype: int64"
      ]
     },
     "execution_count": 15,
     "metadata": {},
     "output_type": "execute_result"
    }
   ],
   "source": [
    "df.last_review.value_counts()"
   ]
  },
  {
   "cell_type": "code",
   "execution_count": 16,
   "metadata": {
    "scrolled": true
   },
   "outputs": [
    {
     "data": {
      "text/plain": [
       "f    24425\n",
       "t     7924\n",
       "Name: instant_bookable, dtype: int64"
      ]
     },
     "execution_count": 16,
     "metadata": {},
     "output_type": "execute_result"
    }
   ],
   "source": [
    "df.instant_bookable.value_counts()"
   ]
  },
  {
   "cell_type": "code",
   "execution_count": 17,
   "metadata": {
    "scrolled": true
   },
   "outputs": [
    {
     "data": {
      "text/plain": [
       "Williamsburg           2862\n",
       "Bedford-Stuyvesant     2166\n",
       "Bushwick               1601\n",
       "Upper West Side        1396\n",
       "Harlem                 1374\n",
       "Hell's Kitchen         1299\n",
       "Upper East Side        1206\n",
       "Crown Heights          1076\n",
       "Astoria                 898\n",
       "Lower East Side         833\n",
       "East Village            814\n",
       "East Harlem             793\n",
       "Chelsea                 726\n",
       "Greenpoint              725\n",
       "Washington Heights      721\n",
       "Hamilton Heights        628\n",
       "Alphabet City           619\n",
       "Clinton Hill            618\n",
       "West Village            606\n",
       "Park Slope              601\n",
       "Flatbush                551\n",
       "Midtown East            441\n",
       "Lefferts Garden         341\n",
       "Kips Bay                334\n",
       "Financial District      323\n",
       "Midtown                 319\n",
       "Chinatown               295\n",
       "Greenwich Village       293\n",
       "Jamaica                 279\n",
       "Fort Greene             272\n",
       "                       ... \n",
       "West Farms                4\n",
       "Grymes Hill               4\n",
       "Marine Park               3\n",
       "Port Richmond             3\n",
       "Co-op City                3\n",
       "Fresh Meadows             3\n",
       "Huguenot                  2\n",
       "Woodlawn                  2\n",
       "Mariners Harbor           2\n",
       "Fort Wadsworth            2\n",
       "Westchester Village       2\n",
       "Castleton Corners         2\n",
       "Emerson Hill              2\n",
       "New Springville           2\n",
       "New Dorp Beach            1\n",
       "Gerritsen Beach           1\n",
       "Oakwood                   1\n",
       "Arrochar                  1\n",
       "Dongan Hills              1\n",
       "Graniteville              1\n",
       "Rossville                 1\n",
       "Mill Basin                1\n",
       "Country Club              1\n",
       "Clifton                   1\n",
       "Silver Lake               1\n",
       "Todt Hill                 1\n",
       "Willowbrook               1\n",
       "Grant City                1\n",
       "Annadale                  1\n",
       "Lighthouse HIll           1\n",
       "Name: neighbourhood, Length: 201, dtype: int64"
      ]
     },
     "execution_count": 17,
     "metadata": {},
     "output_type": "execute_result"
    }
   ],
   "source": [
    "df.neighbourhood.value_counts()"
   ]
  },
  {
   "cell_type": "code",
   "execution_count": 18,
   "metadata": {
    "scrolled": true
   },
   "outputs": [
    {
     "data": {
      "text/plain": [
       "11211.0                     1368\n",
       "11221                       1188\n",
       "10019                        775\n",
       "11222                        738\n",
       "10002                        737\n",
       "10009.0                      722\n",
       "10025                        713\n",
       "11237                        647\n",
       "11215                        632\n",
       "10027                        628\n",
       "10036                        618\n",
       "10031                        611\n",
       "11216                        610\n",
       "11206                        589\n",
       "10014                        577\n",
       "10012                        548\n",
       "10029.0                      534\n",
       "10016                        523\n",
       "10011.0                      503\n",
       "11238.0                      498\n",
       "11249.0                      482\n",
       "10003.0                      474\n",
       "11233                        428\n",
       "11206.0                      426\n",
       "11226                        405\n",
       "11217                        402\n",
       "11238                        386\n",
       "10032                        381\n",
       "10023                        375\n",
       "10024                        372\n",
       "                            ... \n",
       "11580.0                        1\n",
       "10309                          1\n",
       "7302.0                         1\n",
       "11004                          1\n",
       "11209.0                        1\n",
       "11694.0                        1\n",
       "11219.0                        1\n",
       "10312.0                        1\n",
       "11215.0                        1\n",
       "10016.0                        1\n",
       "10012.0                        1\n",
       "11411                          1\n",
       "10025.0                        1\n",
       "10162                          1\n",
       "10282.0                        1\n",
       "11249\\r\\r\\r\\r\\r\\r\\n11249       1\n",
       "10308.0                        1\n",
       "11239.0                        1\n",
       "11429.0                        1\n",
       "10119.0                        1\n",
       "10106                          1\n",
       "11001                          1\n",
       "11362                          1\n",
       "11385-2308                     1\n",
       "11103-3233                     1\n",
       "10065.0                        1\n",
       "10000                          1\n",
       "10467.0                        1\n",
       "11004.0                        1\n",
       "10030.0                        1\n",
       "Name: zipcode, Length: 291, dtype: int64"
      ]
     },
     "execution_count": 18,
     "metadata": {},
     "output_type": "execute_result"
    }
   ],
   "source": [
    "df.zipcode.value_counts()"
   ]
  },
  {
   "cell_type": "code",
   "execution_count": 19,
   "metadata": {
    "scrolled": true
   },
   "outputs": [
    {
     "data": {
      "text/plain": [
       "1.0     23568\n",
       "2.0      4104\n",
       "0.0      2935\n",
       "3.0      1256\n",
       "4.0       325\n",
       "5.0        77\n",
       "6.0        17\n",
       "7.0        10\n",
       "10.0        4\n",
       "8.0         4\n",
       "9.0         2\n",
       "Name: bedrooms, dtype: int64"
      ]
     },
     "execution_count": 19,
     "metadata": {},
     "output_type": "execute_result"
    }
   ],
   "source": [
    "df.bedrooms.value_counts()"
   ]
  },
  {
   "cell_type": "code",
   "execution_count": 20,
   "metadata": {},
   "outputs": [
    {
     "data": {
      "text/plain": [
       "1.0     21555\n",
       "2.0      6707\n",
       "3.0      2309\n",
       "4.0       960\n",
       "5.0       399\n",
       "6.0       189\n",
       "7.0        62\n",
       "8.0        37\n",
       "10.0       21\n",
       "9.0        17\n",
       "11.0        7\n",
       "12.0        7\n",
       "13.0        5\n",
       "16.0        4\n",
       "0.0         2\n",
       "15.0        2\n",
       "18.0        1\n",
       "Name: beds, dtype: int64"
      ]
     },
     "execution_count": 20,
     "metadata": {},
     "output_type": "execute_result"
    }
   ],
   "source": [
    "df.beds.value_counts()"
   ]
  },
  {
   "cell_type": "code",
   "execution_count": 21,
   "metadata": {
    "scrolled": true
   },
   "outputs": [
    {
     "data": {
      "text/plain": [
       "0     Beautiful, sunlit brownstone 1-bedroom in the ...\n",
       "1     Enjoy travelling during your stay in Manhattan...\n",
       "2     The Oasis comes complete with a full backyard ...\n",
       "10    This is a bright bedroom in an historic buildi...\n",
       "18    I am renting a very spacious, unique, bright L...\n",
       "Name: description, dtype: object"
      ]
     },
     "execution_count": 21,
     "metadata": {},
     "output_type": "execute_result"
    }
   ],
   "source": [
    "df.description.head()"
   ]
  },
  {
   "cell_type": "markdown",
   "metadata": {},
   "source": [
    "### Data Quality Issues\n",
    "\n",
    "- reset the index\n",
    "- drop the city column, thumbnail_url, description, name\n",
    "- first review, last review should be datetime\n",
    "- host_has_profile_pic, host_identity_verified, instant_bookable to boolean with onehotcode\n",
    "- host_response_rate extract the value and transform to decimal percentage\n",
    "- format the zipcode.(Only get the first five number of zipcode)"
   ]
  },
  {
   "cell_type": "markdown",
   "metadata": {},
   "source": [
    "### Cleansing"
   ]
  },
  {
   "cell_type": "markdown",
   "metadata": {},
   "source": [
    "Drop the id"
   ]
  },
  {
   "cell_type": "code",
   "execution_count": 22,
   "metadata": {},
   "outputs": [],
   "source": [
    "df.drop(['id'], axis = 1, inplace = True)"
   ]
  },
  {
   "cell_type": "markdown",
   "metadata": {},
   "source": [
    "** Test **"
   ]
  },
  {
   "cell_type": "code",
   "execution_count": 23,
   "metadata": {
    "scrolled": true
   },
   "outputs": [
    {
     "name": "stdout",
     "output_type": "stream",
     "text": [
      "<class 'pandas.core.frame.DataFrame'>\n",
      "Int64Index: 32349 entries, 0 to 74109\n",
      "Data columns (total 28 columns):\n",
      "log_price                 32349 non-null float64\n",
      "property_type             32349 non-null object\n",
      "room_type                 32349 non-null object\n",
      "amenities                 32349 non-null object\n",
      "accommodates              32349 non-null int64\n",
      "bathrooms                 32250 non-null float64\n",
      "bed_type                  32349 non-null object\n",
      "cancellation_policy       32349 non-null object\n",
      "cleaning_fee              32349 non-null bool\n",
      "city                      32349 non-null object\n",
      "description               32349 non-null object\n",
      "first_review              25491 non-null object\n",
      "host_has_profile_pic      32173 non-null object\n",
      "host_identity_verified    32173 non-null object\n",
      "host_response_rate        22389 non-null object\n",
      "host_since                32173 non-null object\n",
      "instant_bookable          32349 non-null object\n",
      "last_review               25517 non-null object\n",
      "latitude                  32349 non-null float64\n",
      "longitude                 32349 non-null float64\n",
      "name                      32349 non-null object\n",
      "neighbourhood             32341 non-null object\n",
      "number_of_reviews         32349 non-null int64\n",
      "review_scores_rating      25028 non-null float64\n",
      "thumbnail_url             29934 non-null object\n",
      "zipcode                   31903 non-null object\n",
      "bedrooms                  32302 non-null float64\n",
      "beds                      32284 non-null float64\n",
      "dtypes: bool(1), float64(7), int64(2), object(18)\n",
      "memory usage: 6.9+ MB\n"
     ]
    }
   ],
   "source": [
    "df.info()"
   ]
  },
  {
   "cell_type": "markdown",
   "metadata": {},
   "source": [
    "reset the index"
   ]
  },
  {
   "cell_type": "code",
   "execution_count": 24,
   "metadata": {},
   "outputs": [],
   "source": [
    "df.reset_index(drop = True, inplace = True)"
   ]
  },
  {
   "cell_type": "markdown",
   "metadata": {},
   "source": [
    "** Test **"
   ]
  },
  {
   "cell_type": "code",
   "execution_count": 25,
   "metadata": {
    "scrolled": true
   },
   "outputs": [
    {
     "data": {
      "text/html": [
       "<div>\n",
       "<style scoped>\n",
       "    .dataframe tbody tr th:only-of-type {\n",
       "        vertical-align: middle;\n",
       "    }\n",
       "\n",
       "    .dataframe tbody tr th {\n",
       "        vertical-align: top;\n",
       "    }\n",
       "\n",
       "    .dataframe thead th {\n",
       "        text-align: right;\n",
       "    }\n",
       "</style>\n",
       "<table border=\"1\" class=\"dataframe\">\n",
       "  <thead>\n",
       "    <tr style=\"text-align: right;\">\n",
       "      <th></th>\n",
       "      <th>log_price</th>\n",
       "      <th>property_type</th>\n",
       "      <th>room_type</th>\n",
       "      <th>amenities</th>\n",
       "      <th>accommodates</th>\n",
       "      <th>bathrooms</th>\n",
       "      <th>bed_type</th>\n",
       "      <th>cancellation_policy</th>\n",
       "      <th>cleaning_fee</th>\n",
       "      <th>city</th>\n",
       "      <th>...</th>\n",
       "      <th>latitude</th>\n",
       "      <th>longitude</th>\n",
       "      <th>name</th>\n",
       "      <th>neighbourhood</th>\n",
       "      <th>number_of_reviews</th>\n",
       "      <th>review_scores_rating</th>\n",
       "      <th>thumbnail_url</th>\n",
       "      <th>zipcode</th>\n",
       "      <th>bedrooms</th>\n",
       "      <th>beds</th>\n",
       "    </tr>\n",
       "  </thead>\n",
       "  <tbody>\n",
       "    <tr>\n",
       "      <th>0</th>\n",
       "      <td>5.010635</td>\n",
       "      <td>Apartment</td>\n",
       "      <td>Entire home/apt</td>\n",
       "      <td>{\"Wireless Internet\",\"Air conditioning\",Kitche...</td>\n",
       "      <td>3</td>\n",
       "      <td>1.0</td>\n",
       "      <td>Real Bed</td>\n",
       "      <td>strict</td>\n",
       "      <td>True</td>\n",
       "      <td>NYC</td>\n",
       "      <td>...</td>\n",
       "      <td>40.696524</td>\n",
       "      <td>-73.991617</td>\n",
       "      <td>Beautiful brownstone 1-bedroom</td>\n",
       "      <td>Brooklyn Heights</td>\n",
       "      <td>2</td>\n",
       "      <td>100.0</td>\n",
       "      <td>https://a0.muscache.com/im/pictures/6d7cbbf7-c...</td>\n",
       "      <td>11201</td>\n",
       "      <td>1.0</td>\n",
       "      <td>1.0</td>\n",
       "    </tr>\n",
       "    <tr>\n",
       "      <th>1</th>\n",
       "      <td>5.129899</td>\n",
       "      <td>Apartment</td>\n",
       "      <td>Entire home/apt</td>\n",
       "      <td>{\"Wireless Internet\",\"Air conditioning\",Kitche...</td>\n",
       "      <td>7</td>\n",
       "      <td>1.0</td>\n",
       "      <td>Real Bed</td>\n",
       "      <td>strict</td>\n",
       "      <td>True</td>\n",
       "      <td>NYC</td>\n",
       "      <td>...</td>\n",
       "      <td>40.766115</td>\n",
       "      <td>-73.989040</td>\n",
       "      <td>Superb 3BR Apt Located Near Times Square</td>\n",
       "      <td>Hell's Kitchen</td>\n",
       "      <td>6</td>\n",
       "      <td>93.0</td>\n",
       "      <td>https://a0.muscache.com/im/pictures/348a55fe-4...</td>\n",
       "      <td>10019</td>\n",
       "      <td>3.0</td>\n",
       "      <td>3.0</td>\n",
       "    </tr>\n",
       "    <tr>\n",
       "      <th>2</th>\n",
       "      <td>4.976734</td>\n",
       "      <td>Apartment</td>\n",
       "      <td>Entire home/apt</td>\n",
       "      <td>{TV,\"Cable TV\",\"Wireless Internet\",\"Air condit...</td>\n",
       "      <td>5</td>\n",
       "      <td>1.0</td>\n",
       "      <td>Real Bed</td>\n",
       "      <td>moderate</td>\n",
       "      <td>True</td>\n",
       "      <td>NYC</td>\n",
       "      <td>...</td>\n",
       "      <td>40.808110</td>\n",
       "      <td>-73.943756</td>\n",
       "      <td>The Garden Oasis</td>\n",
       "      <td>Harlem</td>\n",
       "      <td>10</td>\n",
       "      <td>92.0</td>\n",
       "      <td>https://a0.muscache.com/im/pictures/6fae5362-9...</td>\n",
       "      <td>10027</td>\n",
       "      <td>1.0</td>\n",
       "      <td>3.0</td>\n",
       "    </tr>\n",
       "    <tr>\n",
       "      <th>3</th>\n",
       "      <td>4.605170</td>\n",
       "      <td>Apartment</td>\n",
       "      <td>Private room</td>\n",
       "      <td>{Internet,\"Wireless Internet\",\"Air conditionin...</td>\n",
       "      <td>2</td>\n",
       "      <td>1.0</td>\n",
       "      <td>Real Bed</td>\n",
       "      <td>strict</td>\n",
       "      <td>True</td>\n",
       "      <td>NYC</td>\n",
       "      <td>...</td>\n",
       "      <td>40.723883</td>\n",
       "      <td>-73.983880</td>\n",
       "      <td>Large East Village Bedroom To Let!</td>\n",
       "      <td>Alphabet City</td>\n",
       "      <td>82</td>\n",
       "      <td>93.0</td>\n",
       "      <td>https://a0.muscache.com/im/pictures/21726900/1...</td>\n",
       "      <td>10009.0</td>\n",
       "      <td>1.0</td>\n",
       "      <td>1.0</td>\n",
       "    </tr>\n",
       "    <tr>\n",
       "      <th>4</th>\n",
       "      <td>4.882802</td>\n",
       "      <td>Apartment</td>\n",
       "      <td>Entire home/apt</td>\n",
       "      <td>{TV,\"Cable TV\",Internet,\"Wireless Internet\",\"A...</td>\n",
       "      <td>2</td>\n",
       "      <td>1.0</td>\n",
       "      <td>Real Bed</td>\n",
       "      <td>strict</td>\n",
       "      <td>True</td>\n",
       "      <td>NYC</td>\n",
       "      <td>...</td>\n",
       "      <td>40.719086</td>\n",
       "      <td>-73.990285</td>\n",
       "      <td>Amazing LES apt - cool, bright...</td>\n",
       "      <td>Lower East Side</td>\n",
       "      <td>26</td>\n",
       "      <td>86.0</td>\n",
       "      <td>NaN</td>\n",
       "      <td>10002</td>\n",
       "      <td>1.0</td>\n",
       "      <td>2.0</td>\n",
       "    </tr>\n",
       "  </tbody>\n",
       "</table>\n",
       "<p>5 rows × 28 columns</p>\n",
       "</div>"
      ],
      "text/plain": [
       "   log_price property_type        room_type  \\\n",
       "0   5.010635     Apartment  Entire home/apt   \n",
       "1   5.129899     Apartment  Entire home/apt   \n",
       "2   4.976734     Apartment  Entire home/apt   \n",
       "3   4.605170     Apartment     Private room   \n",
       "4   4.882802     Apartment  Entire home/apt   \n",
       "\n",
       "                                           amenities  accommodates  bathrooms  \\\n",
       "0  {\"Wireless Internet\",\"Air conditioning\",Kitche...             3        1.0   \n",
       "1  {\"Wireless Internet\",\"Air conditioning\",Kitche...             7        1.0   \n",
       "2  {TV,\"Cable TV\",\"Wireless Internet\",\"Air condit...             5        1.0   \n",
       "3  {Internet,\"Wireless Internet\",\"Air conditionin...             2        1.0   \n",
       "4  {TV,\"Cable TV\",Internet,\"Wireless Internet\",\"A...             2        1.0   \n",
       "\n",
       "   bed_type cancellation_policy  cleaning_fee city  ...    latitude  \\\n",
       "0  Real Bed              strict          True  NYC  ...   40.696524   \n",
       "1  Real Bed              strict          True  NYC  ...   40.766115   \n",
       "2  Real Bed            moderate          True  NYC  ...   40.808110   \n",
       "3  Real Bed              strict          True  NYC  ...   40.723883   \n",
       "4  Real Bed              strict          True  NYC  ...   40.719086   \n",
       "\n",
       "   longitude                                      name     neighbourhood  \\\n",
       "0 -73.991617            Beautiful brownstone 1-bedroom  Brooklyn Heights   \n",
       "1 -73.989040  Superb 3BR Apt Located Near Times Square    Hell's Kitchen   \n",
       "2 -73.943756                          The Garden Oasis            Harlem   \n",
       "3 -73.983880        Large East Village Bedroom To Let!     Alphabet City   \n",
       "4 -73.990285         Amazing LES apt - cool, bright...   Lower East Side   \n",
       "\n",
       "  number_of_reviews review_scores_rating  \\\n",
       "0                 2                100.0   \n",
       "1                 6                 93.0   \n",
       "2                10                 92.0   \n",
       "3                82                 93.0   \n",
       "4                26                 86.0   \n",
       "\n",
       "                                       thumbnail_url  zipcode  bedrooms  beds  \n",
       "0  https://a0.muscache.com/im/pictures/6d7cbbf7-c...    11201       1.0   1.0  \n",
       "1  https://a0.muscache.com/im/pictures/348a55fe-4...    10019       3.0   3.0  \n",
       "2  https://a0.muscache.com/im/pictures/6fae5362-9...    10027       1.0   3.0  \n",
       "3  https://a0.muscache.com/im/pictures/21726900/1...  10009.0       1.0   1.0  \n",
       "4                                                NaN    10002       1.0   2.0  \n",
       "\n",
       "[5 rows x 28 columns]"
      ]
     },
     "execution_count": 25,
     "metadata": {},
     "output_type": "execute_result"
    }
   ],
   "source": [
    "df.head()"
   ]
  },
  {
   "cell_type": "markdown",
   "metadata": {},
   "source": [
    "drop the city column, thumbnail_url, description, name"
   ]
  },
  {
   "cell_type": "code",
   "execution_count": 26,
   "metadata": {},
   "outputs": [],
   "source": [
    "droplist = ['city', 'thumbnail_url', 'description', 'name']\n",
    "\n",
    "df.drop(droplist, axis = 1, inplace = True)"
   ]
  },
  {
   "cell_type": "markdown",
   "metadata": {},
   "source": [
    "** Test **"
   ]
  },
  {
   "cell_type": "code",
   "execution_count": 27,
   "metadata": {},
   "outputs": [],
   "source": [
    "assert droplist not in df.columns.tolist()"
   ]
  },
  {
   "cell_type": "markdown",
   "metadata": {},
   "source": [
    "first review, last review should be datetime"
   ]
  },
  {
   "cell_type": "code",
   "execution_count": 28,
   "metadata": {},
   "outputs": [],
   "source": [
    "df.first_review = pd.to_datetime(df.first_review, errors = 'coerce')"
   ]
  },
  {
   "cell_type": "code",
   "execution_count": 29,
   "metadata": {},
   "outputs": [],
   "source": [
    "df.last_review = pd.to_datetime(df.last_review, errors = 'coerce')"
   ]
  },
  {
   "cell_type": "markdown",
   "metadata": {},
   "source": [
    "** Test **"
   ]
  },
  {
   "cell_type": "code",
   "execution_count": 30,
   "metadata": {},
   "outputs": [
    {
     "data": {
      "text/plain": [
       "dtype('<M8[ns]')"
      ]
     },
     "execution_count": 30,
     "metadata": {},
     "output_type": "execute_result"
    }
   ],
   "source": [
    "df.first_review.dtypes"
   ]
  },
  {
   "cell_type": "code",
   "execution_count": 31,
   "metadata": {
    "scrolled": true
   },
   "outputs": [
    {
     "data": {
      "text/plain": [
       "dtype('<M8[ns]')"
      ]
     },
     "execution_count": 31,
     "metadata": {},
     "output_type": "execute_result"
    }
   ],
   "source": [
    "df.last_review.dtype"
   ]
  },
  {
   "cell_type": "markdown",
   "metadata": {},
   "source": [
    "host_has_profile_pic, host_identity_verified, instant_bookable to 1/0 with LabelBinarizer"
   ]
  },
  {
   "cell_type": "code",
   "execution_count": 32,
   "metadata": {},
   "outputs": [],
   "source": [
    "from sklearn.preprocessing import LabelBinarizer\n",
    "\n",
    "lb = LabelBinarizer()\n",
    "\n",
    "def masktran(data, seriesname):\n",
    "    # mask the series without null value and binarize the label\n",
    "    for i in seriesname:\n",
    "        print('Total null value in {0} is {1}'.format(i, data[i].isnull().sum()))\n",
    "        mask = ~data[i].isnull()\n",
    "        print('mask:', mask[0:5])\n",
    "        data[i][mask] = lb.fit_transform(data[i][mask])\n",
    "        print('Successful processed', data[i].head())\n",
    "    return data"
   ]
  },
  {
   "cell_type": "code",
   "execution_count": 33,
   "metadata": {},
   "outputs": [],
   "source": [
    "lbls = ['host_has_profile_pic', 'host_identity_verified', 'instant_bookable']"
   ]
  },
  {
   "cell_type": "code",
   "execution_count": 34,
   "metadata": {
    "scrolled": false
   },
   "outputs": [
    {
     "name": "stdout",
     "output_type": "stream",
     "text": [
      "Total null value in host_has_profile_pic is 176\n",
      "mask: 0    True\n",
      "1    True\n",
      "2    True\n",
      "3    True\n",
      "4    True\n",
      "Name: host_has_profile_pic, dtype: bool\n",
      "Successful processed 0    1\n",
      "1    1\n",
      "2    1\n",
      "3    1\n",
      "4    1\n",
      "Name: host_has_profile_pic, dtype: object\n",
      "Total null value in host_identity_verified is 176\n",
      "mask: 0    True\n",
      "1    True\n",
      "2    True\n",
      "3    True\n",
      "4    True\n",
      "Name: host_identity_verified, dtype: bool\n",
      "Successful processed 0    1\n",
      "1    0\n",
      "2    1\n",
      "3    1\n",
      "4    1\n",
      "Name: host_identity_verified, dtype: object\n",
      "Total null value in instant_bookable is 0\n",
      "mask: 0    True\n",
      "1    True\n",
      "2    True\n",
      "3    True\n",
      "4    True\n",
      "Name: instant_bookable, dtype: bool\n",
      "Successful processed 0    0\n",
      "1    1\n",
      "2    1\n",
      "3    0\n",
      "4    0\n",
      "Name: instant_bookable, dtype: object\n"
     ]
    }
   ],
   "source": [
    "df = masktran(df, lbls)"
   ]
  },
  {
   "cell_type": "code",
   "execution_count": 35,
   "metadata": {},
   "outputs": [],
   "source": [
    "# fill the missing value with 0\n",
    "for i in lbls:\n",
    "    df[i].fillna(0, inplace = True)"
   ]
  },
  {
   "cell_type": "code",
   "execution_count": 36,
   "metadata": {},
   "outputs": [],
   "source": [
    "df[lbls] = df[lbls].astype(int, inplace = True)"
   ]
  },
  {
   "cell_type": "markdown",
   "metadata": {},
   "source": [
    "** Test **"
   ]
  },
  {
   "cell_type": "code",
   "execution_count": 37,
   "metadata": {
    "scrolled": true
   },
   "outputs": [
    {
     "data": {
      "text/html": [
       "<div>\n",
       "<style scoped>\n",
       "    .dataframe tbody tr th:only-of-type {\n",
       "        vertical-align: middle;\n",
       "    }\n",
       "\n",
       "    .dataframe tbody tr th {\n",
       "        vertical-align: top;\n",
       "    }\n",
       "\n",
       "    .dataframe thead th {\n",
       "        text-align: right;\n",
       "    }\n",
       "</style>\n",
       "<table border=\"1\" class=\"dataframe\">\n",
       "  <thead>\n",
       "    <tr style=\"text-align: right;\">\n",
       "      <th></th>\n",
       "      <th>host_has_profile_pic</th>\n",
       "      <th>host_identity_verified</th>\n",
       "      <th>instant_bookable</th>\n",
       "    </tr>\n",
       "  </thead>\n",
       "  <tbody>\n",
       "    <tr>\n",
       "      <th>0</th>\n",
       "      <td>1</td>\n",
       "      <td>1</td>\n",
       "      <td>0</td>\n",
       "    </tr>\n",
       "    <tr>\n",
       "      <th>1</th>\n",
       "      <td>1</td>\n",
       "      <td>0</td>\n",
       "      <td>1</td>\n",
       "    </tr>\n",
       "    <tr>\n",
       "      <th>2</th>\n",
       "      <td>1</td>\n",
       "      <td>1</td>\n",
       "      <td>1</td>\n",
       "    </tr>\n",
       "    <tr>\n",
       "      <th>3</th>\n",
       "      <td>1</td>\n",
       "      <td>1</td>\n",
       "      <td>0</td>\n",
       "    </tr>\n",
       "    <tr>\n",
       "      <th>4</th>\n",
       "      <td>1</td>\n",
       "      <td>1</td>\n",
       "      <td>0</td>\n",
       "    </tr>\n",
       "  </tbody>\n",
       "</table>\n",
       "</div>"
      ],
      "text/plain": [
       "   host_has_profile_pic  host_identity_verified  instant_bookable\n",
       "0                     1                       1                 0\n",
       "1                     1                       0                 1\n",
       "2                     1                       1                 1\n",
       "3                     1                       1                 0\n",
       "4                     1                       1                 0"
      ]
     },
     "execution_count": 37,
     "metadata": {},
     "output_type": "execute_result"
    }
   ],
   "source": [
    "df[lbls].head()"
   ]
  },
  {
   "cell_type": "markdown",
   "metadata": {},
   "source": [
    "host_response_rate extract the value and transform to decimal percentage"
   ]
  },
  {
   "cell_type": "code",
   "execution_count": 38,
   "metadata": {},
   "outputs": [],
   "source": [
    "df.host_response_rate = df.host_response_rate.str.extract('(\\d*)')"
   ]
  },
  {
   "cell_type": "code",
   "execution_count": 39,
   "metadata": {},
   "outputs": [],
   "source": [
    "df.host_response_rate = df.host_response_rate.astype(float)"
   ]
  },
  {
   "cell_type": "markdown",
   "metadata": {},
   "source": [
    "** Test **"
   ]
  },
  {
   "cell_type": "code",
   "execution_count": 40,
   "metadata": {},
   "outputs": [
    {
     "data": {
      "text/plain": [
       "dtype('float64')"
      ]
     },
     "execution_count": 40,
     "metadata": {},
     "output_type": "execute_result"
    }
   ],
   "source": [
    "df.host_response_rate.dtype"
   ]
  },
  {
   "cell_type": "code",
   "execution_count": 41,
   "metadata": {},
   "outputs": [
    {
     "data": {
      "text/plain": [
       "100.0    17241\n",
       "90.0      1092\n",
       "80.0       577\n",
       "0.0        392\n",
       "50.0       302\n",
       "70.0       249\n",
       "67.0       202\n",
       "75.0       187\n",
       "60.0       184\n",
       "89.0       139\n",
       "88.0       127\n",
       "83.0       125\n",
       "86.0       118\n",
       "97.0       110\n",
       "92.0       106\n",
       "95.0       105\n",
       "93.0       103\n",
       "94.0       100\n",
       "33.0        72\n",
       "96.0        71\n",
       "91.0        69\n",
       "40.0        69\n",
       "98.0        62\n",
       "99.0        55\n",
       "78.0        41\n",
       "71.0        39\n",
       "25.0        39\n",
       "63.0        34\n",
       "82.0        32\n",
       "57.0        31\n",
       "         ...  \n",
       "44.0        10\n",
       "76.0         9\n",
       "64.0         9\n",
       "17.0         9\n",
       "69.0         8\n",
       "46.0         7\n",
       "38.0         7\n",
       "58.0         6\n",
       "10.0         6\n",
       "68.0         4\n",
       "53.0         4\n",
       "65.0         3\n",
       "26.0         3\n",
       "22.0         3\n",
       "66.0         2\n",
       "35.0         2\n",
       "54.0         2\n",
       "36.0         2\n",
       "14.0         2\n",
       "47.0         2\n",
       "59.0         2\n",
       "6.0          1\n",
       "61.0         1\n",
       "27.0         1\n",
       "62.0         1\n",
       "21.0         1\n",
       "41.0         1\n",
       "72.0         1\n",
       "15.0         1\n",
       "52.0         1\n",
       "Name: host_response_rate, Length: 74, dtype: int64"
      ]
     },
     "execution_count": 41,
     "metadata": {},
     "output_type": "execute_result"
    }
   ],
   "source": [
    "df.host_response_rate.value_counts()"
   ]
  },
  {
   "cell_type": "markdown",
   "metadata": {},
   "source": [
    "format the zipcode.(Only get the first five number of zipcode)"
   ]
  },
  {
   "cell_type": "code",
   "execution_count": 42,
   "metadata": {},
   "outputs": [],
   "source": [
    "df.zipcode = df.zipcode.str.extract('(\\d+)\\.?\\-?').str.pad(width= 5, fillchar = '0')"
   ]
  },
  {
   "cell_type": "markdown",
   "metadata": {},
   "source": [
    "** Test **"
   ]
  },
  {
   "cell_type": "code",
   "execution_count": 43,
   "metadata": {},
   "outputs": [
    {
     "data": {
      "text/plain": [
       "11211    1618\n",
       "11221    1198\n",
       "11206    1015\n",
       "10002     960\n",
       "11216     931\n",
       "11238     884\n",
       "10009     870\n",
       "10003     780\n",
       "10019     776\n",
       "11222     770\n",
       "11237     729\n",
       "10025     714\n",
       "10011     639\n",
       "10027     635\n",
       "11215     633\n",
       "10036     620\n",
       "10031     611\n",
       "10014     592\n",
       "10012     549\n",
       "10029     538\n",
       "11249     529\n",
       "10016     524\n",
       "11233     510\n",
       "11205     504\n",
       "11225     481\n",
       "11226     480\n",
       "11217     408\n",
       "10032     381\n",
       "10023     375\n",
       "10024     372\n",
       "         ... \n",
       "10308       5\n",
       "10307       5\n",
       "11357       5\n",
       "10129       4\n",
       "11427       3\n",
       "11362       3\n",
       "10470       3\n",
       "11004       2\n",
       "10270       2\n",
       "10550       2\n",
       "10281       2\n",
       "11363       2\n",
       "11366       2\n",
       "10118       1\n",
       "10162       1\n",
       "00001       1\n",
       "11001       1\n",
       "10119       1\n",
       "11239       1\n",
       "10704       1\n",
       "07306       1\n",
       "10106       1\n",
       "10309       1\n",
       "11580       1\n",
       "10279       1\n",
       "10048       1\n",
       "99135       1\n",
       "11509       1\n",
       "07302       1\n",
       "10000       1\n",
       "Name: zipcode, Length: 196, dtype: int64"
      ]
     },
     "execution_count": 43,
     "metadata": {},
     "output_type": "execute_result"
    }
   ],
   "source": [
    "df.zipcode.value_counts()"
   ]
  },
  {
   "cell_type": "code",
   "execution_count": 44,
   "metadata": {},
   "outputs": [
    {
     "data": {
      "text/plain": [
       "dtype('O')"
      ]
     },
     "execution_count": 44,
     "metadata": {},
     "output_type": "execute_result"
    }
   ],
   "source": [
    "df.zipcode.dtype"
   ]
  },
  {
   "cell_type": "markdown",
   "metadata": {},
   "source": [
    "### Correlation map"
   ]
  },
  {
   "cell_type": "code",
   "execution_count": 45,
   "metadata": {},
   "outputs": [],
   "source": [
    "# select different data type\n",
    "num_col = df.select_dtypes(include = np.number)"
   ]
  },
  {
   "cell_type": "code",
   "execution_count": 46,
   "metadata": {
    "scrolled": true
   },
   "outputs": [
    {
     "data": {
      "image/png": "[encoded data removed]",
      "text/plain": [
       "<matplotlib.figure.Figure at 0x104948780>"
      ]
     },
     "metadata": {},
     "output_type": "display_data"
    }
   ],
   "source": [
    "# create the correlation\n",
    "corr = num_col.corr()\n",
    "\n",
    "# create the map according to corr\n",
    "plt.figure(figsize = (10, 8))\n",
    "sns.heatmap(corr, annot = True);"
   ]
  },
  {
   "cell_type": "markdown",
   "metadata": {},
   "source": [
    "- accommdates is high correlated(0.81) with beds and is high correlated (0.65) with bedrooms.\n",
    "- beds is also high correlated(0.68) with bedrooms."
   ]
  },
  {
   "cell_type": "markdown",
   "metadata": {},
   "source": [
    "### Data Wrangling"
   ]
  },
  {
   "cell_type": "markdown",
   "metadata": {},
   "source": [
    "- Derive difference duration according to first review, last review, host since\n",
    "- get dummies from property_type, room_type, bed_type, cancellation_policy\n",
    "- drop neighbourhood, zipcode\n",
    "- get dummies from amenities.\n",
    "- derive distance from latitude and longitude to NYC center.\n"
   ]
  },
  {
   "cell_type": "markdown",
   "metadata": {},
   "source": [
    "#### Derive difference duration according to first review, last review, host since\n",
    "\n",
    "Data Collected date (2017-10-02) Gather from Kaggle"
   ]
  },
  {
   "cell_type": "code",
   "execution_count": 47,
   "metadata": {},
   "outputs": [],
   "source": [
    "df.first_review = pd.to_datetime(df.first_review)\n",
    "df.last_review = pd.to_datetime(df.last_review)\n",
    "df.host_since = pd.to_datetime(df.host_since)"
   ]
  },
  {
   "cell_type": "code",
   "execution_count": 48,
   "metadata": {},
   "outputs": [],
   "source": [
    "# according the the intro, the NYC data was collected as date of 2017-10-02\n",
    "data_as_of_t = pd.to_datetime('2017-10-02')\n",
    "#data_as_of_t = datetime.datetime.strptime('2017-10-02', '%Y-%m-%d').date()"
   ]
  },
  {
   "cell_type": "code",
   "execution_count": 49,
   "metadata": {},
   "outputs": [],
   "source": [
    "# generate the diff between first review, last review, hostsince and data as of today\n",
    "df['diffFirst'] = df.first_review.apply(lambda x: (data_as_of_t - x) / np.timedelta64(1, 'D'))\n",
    "df['diffLast'] = df.last_review.apply(lambda x: (data_as_of_t - x) / np.timedelta64(1, 'D'))\n",
    "df['diffhostsince'] = df.host_since.apply(lambda x: (data_as_of_t - x) / np.timedelta64(1, 'D'))"
   ]
  },
  {
   "cell_type": "code",
   "execution_count": 50,
   "metadata": {},
   "outputs": [],
   "source": [
    "df.drop(['first_review', 'host_since', 'last_review'], axis = 1, inplace = True)"
   ]
  },
  {
   "cell_type": "markdown",
   "metadata": {},
   "source": [
    "** Test **"
   ]
  },
  {
   "cell_type": "code",
   "execution_count": 51,
   "metadata": {
    "scrolled": false
   },
   "outputs": [
    {
     "name": "stdout",
     "output_type": "stream",
     "text": [
      "<class 'pandas.core.frame.DataFrame'>\n",
      "RangeIndex: 32349 entries, 0 to 32348\n",
      "Data columns (total 24 columns):\n",
      "log_price                 32349 non-null float64\n",
      "property_type             32349 non-null object\n",
      "room_type                 32349 non-null object\n",
      "amenities                 32349 non-null object\n",
      "accommodates              32349 non-null int64\n",
      "bathrooms                 32250 non-null float64\n",
      "bed_type                  32349 non-null object\n",
      "cancellation_policy       32349 non-null object\n",
      "cleaning_fee              32349 non-null bool\n",
      "host_has_profile_pic      32349 non-null int64\n",
      "host_identity_verified    32349 non-null int64\n",
      "host_response_rate        22389 non-null float64\n",
      "instant_bookable          32349 non-null int64\n",
      "latitude                  32349 non-null float64\n",
      "longitude                 32349 non-null float64\n",
      "neighbourhood             32341 non-null object\n",
      "number_of_reviews         32349 non-null int64\n",
      "review_scores_rating      25028 non-null float64\n",
      "zipcode                   31903 non-null object\n",
      "bedrooms                  32302 non-null float64\n",
      "beds                      32284 non-null float64\n",
      "diffFirst                 25491 non-null float64\n",
      "diffLast                  25517 non-null float64\n",
      "diffhostsince             32173 non-null float64\n",
      "dtypes: bool(1), float64(11), int64(5), object(7)\n",
      "memory usage: 5.7+ MB\n"
     ]
    }
   ],
   "source": [
    "df.info()"
   ]
  },
  {
   "cell_type": "markdown",
   "metadata": {},
   "source": [
    "get dummies from property_type, room_type, bed_type, cancellation_policy"
   ]
  },
  {
   "cell_type": "code",
   "execution_count": 52,
   "metadata": {},
   "outputs": [],
   "source": [
    "catlist = ['property_type', 'room_type', 'bed_type', 'cancellation_policy']\n",
    "for i in catlist:\n",
    "    try:\n",
    "        df = pd.concat([df, pd.get_dummies(df[i])], axis = 1)\n",
    "    except:\n",
    "        print('{0} is not able to concat'.format(i))"
   ]
  },
  {
   "cell_type": "code",
   "execution_count": 53,
   "metadata": {},
   "outputs": [],
   "source": [
    "df.drop(catlist, axis = 1, inplace = True)"
   ]
  },
  {
   "cell_type": "markdown",
   "metadata": {},
   "source": [
    "** Test **"
   ]
  },
  {
   "cell_type": "code",
   "execution_count": 54,
   "metadata": {
    "scrolled": false
   },
   "outputs": [
    {
     "name": "stdout",
     "output_type": "stream",
     "text": [
      "<class 'pandas.core.frame.DataFrame'>\n",
      "RangeIndex: 32349 entries, 0 to 32348\n",
      "Data columns (total 58 columns):\n",
      "log_price                 32349 non-null float64\n",
      "amenities                 32349 non-null object\n",
      "accommodates              32349 non-null int64\n",
      "bathrooms                 32250 non-null float64\n",
      "cleaning_fee              32349 non-null bool\n",
      "host_has_profile_pic      32349 non-null int64\n",
      "host_identity_verified    32349 non-null int64\n",
      "host_response_rate        22389 non-null float64\n",
      "instant_bookable          32349 non-null int64\n",
      "latitude                  32349 non-null float64\n",
      "longitude                 32349 non-null float64\n",
      "neighbourhood             32341 non-null object\n",
      "number_of_reviews         32349 non-null int64\n",
      "review_scores_rating      25028 non-null float64\n",
      "zipcode                   31903 non-null object\n",
      "bedrooms                  32302 non-null float64\n",
      "beds                      32284 non-null float64\n",
      "diffFirst                 25491 non-null float64\n",
      "diffLast                  25517 non-null float64\n",
      "diffhostsince             32173 non-null float64\n",
      "Apartment                 32349 non-null uint8\n",
      "Bed & Breakfast           32349 non-null uint8\n",
      "Boat                      32349 non-null uint8\n",
      "Boutique hotel            32349 non-null uint8\n",
      "Bungalow                  32349 non-null uint8\n",
      "Cabin                     32349 non-null uint8\n",
      "Castle                    32349 non-null uint8\n",
      "Chalet                    32349 non-null uint8\n",
      "Condominium               32349 non-null uint8\n",
      "Dorm                      32349 non-null uint8\n",
      "Earth House               32349 non-null uint8\n",
      "Guest suite               32349 non-null uint8\n",
      "Guesthouse                32349 non-null uint8\n",
      "Hostel                    32349 non-null uint8\n",
      "House                     32349 non-null uint8\n",
      "In-law                    32349 non-null uint8\n",
      "Loft                      32349 non-null uint8\n",
      "Other                     32349 non-null uint8\n",
      "Serviced apartment        32349 non-null uint8\n",
      "Tent                      32349 non-null uint8\n",
      "Timeshare                 32349 non-null uint8\n",
      "Townhouse                 32349 non-null uint8\n",
      "Vacation home             32349 non-null uint8\n",
      "Villa                     32349 non-null uint8\n",
      "Yurt                      32349 non-null uint8\n",
      "Entire home/apt           32349 non-null uint8\n",
      "Private room              32349 non-null uint8\n",
      "Shared room               32349 non-null uint8\n",
      "Airbed                    32349 non-null uint8\n",
      "Couch                     32349 non-null uint8\n",
      "Futon                     32349 non-null uint8\n",
      "Pull-out Sofa             32349 non-null uint8\n",
      "Real Bed                  32349 non-null uint8\n",
      "flexible                  32349 non-null uint8\n",
      "moderate                  32349 non-null uint8\n",
      "strict                    32349 non-null uint8\n",
      "super_strict_30           32349 non-null uint8\n",
      "super_strict_60           32349 non-null uint8\n",
      "dtypes: bool(1), float64(11), int64(5), object(3), uint8(38)\n",
      "memory usage: 5.9+ MB\n"
     ]
    }
   ],
   "source": [
    "df.info()"
   ]
  },
  {
   "cell_type": "markdown",
   "metadata": {},
   "source": [
    "drop neighbourhood, zipcode"
   ]
  },
  {
   "cell_type": "code",
   "execution_count": 55,
   "metadata": {},
   "outputs": [],
   "source": [
    "df.drop(['neighbourhood', 'zipcode'], axis = 1, inplace = True)"
   ]
  },
  {
   "cell_type": "markdown",
   "metadata": {},
   "source": [
    "#### Derive distance from latitude and longtitude to NYC center (Lat: 40.730610, Long: -73.935242). \n",
    "\n",
    "Method idea: sqrt(abs(square(La(loc) - Lat)) + abs(square(long(loc) - long)))"
   ]
  },
  {
   "cell_type": "code",
   "execution_count": 56,
   "metadata": {},
   "outputs": [],
   "source": [
    "# function for calculate the distance\n",
    "def dist(lon1, lat1, lon2, lat2):\n",
    "    '''\n",
    "    this function is to calculate the distance according to the longtitude and latitude.\n",
    "    Calculate the great circle distance between two points\n",
    "    on the earth (specified in decimal degrees)\n",
    "    all awg length should be the same.\n",
    "    reference: \n",
    "    https://stackoverflow.com/questions/29545704/fast-haversine-approximation-python-pandas/29546836#29546836'''\n",
    "    \n",
    "    lon1, lat1, lon2, lat2 = map(np.radians, [lon1, lat1, lon2, lat2])\n",
    "    # haversine formula\n",
    "    dlon = lon2 - lon1\n",
    "    dlat = lat2 - lat1\n",
    "    \n",
    "    a = np.sin(dlat/2.0)**2 + np.cos(lat1) * np.cos(lat2) * np.sin(dlon/2.0)**2\n",
    "\n",
    "    c = 2 * np.arcsin(np.sqrt(a))\n",
    "    km = 6367 * c\n",
    "    return km"
   ]
  },
  {
   "cell_type": "code",
   "execution_count": 57,
   "metadata": {},
   "outputs": [],
   "source": [
    "# create derived variable name disttocitycenter\n",
    "df['disttocitycenter'] = df.apply(lambda row: dist(row.longitude, row.latitude, -73.935242, 40.730610), axis = 1) "
   ]
  },
  {
   "cell_type": "code",
   "execution_count": 58,
   "metadata": {},
   "outputs": [],
   "source": [
    "df.drop(['longitude', 'latitude'], inplace = True, axis = 1)"
   ]
  },
  {
   "cell_type": "markdown",
   "metadata": {},
   "source": [
    "** Test **"
   ]
  },
  {
   "cell_type": "code",
   "execution_count": 59,
   "metadata": {},
   "outputs": [
    {
     "data": {
      "text/plain": [
       "5.965410     1\n",
       "8.554757     1\n",
       "10.455999    1\n",
       "5.031268     1\n",
       "4.871166     1\n",
       "4.482046     1\n",
       "5.340756     1\n",
       "3.965940     1\n",
       "1.645421     1\n",
       "5.447067     1\n",
       "1.375316     1\n",
       "3.018780     1\n",
       "7.221807     1\n",
       "4.383166     1\n",
       "3.977874     1\n",
       "4.613216     1\n",
       "8.748032     1\n",
       "4.653985     1\n",
       "3.879423     1\n",
       "9.566349     1\n",
       "6.421094     1\n",
       "1.579311     1\n",
       "1.966332     1\n",
       "5.875628     1\n",
       "8.320387     1\n",
       "7.703987     1\n",
       "7.564714     1\n",
       "2.141786     1\n",
       "6.665159     1\n",
       "4.567395     1\n",
       "            ..\n",
       "7.108544     1\n",
       "5.016748     1\n",
       "4.295933     1\n",
       "7.209475     1\n",
       "7.406139     1\n",
       "3.609978     1\n",
       "4.453925     1\n",
       "5.088603     1\n",
       "7.054480     1\n",
       "4.214190     1\n",
       "4.522745     1\n",
       "2.608093     1\n",
       "3.974833     1\n",
       "4.876562     1\n",
       "6.201411     1\n",
       "2.993882     1\n",
       "5.774157     1\n",
       "5.632989     1\n",
       "19.639317    1\n",
       "7.428621     1\n",
       "4.261519     1\n",
       "16.360370    1\n",
       "3.429587     1\n",
       "11.018893    1\n",
       "5.744437     1\n",
       "10.832490    1\n",
       "17.572863    1\n",
       "8.608565     1\n",
       "19.672058    1\n",
       "6.809357     1\n",
       "Name: disttocitycenter, Length: 32349, dtype: int64"
      ]
     },
     "execution_count": 59,
     "metadata": {},
     "output_type": "execute_result"
    }
   ],
   "source": [
    "df.disttocitycenter.value_counts()"
   ]
  },
  {
   "cell_type": "code",
   "execution_count": 60,
   "metadata": {
    "scrolled": false
   },
   "outputs": [
    {
     "name": "stdout",
     "output_type": "stream",
     "text": [
      "<class 'pandas.core.frame.DataFrame'>\n",
      "RangeIndex: 32349 entries, 0 to 32348\n",
      "Data columns (total 55 columns):\n",
      "log_price                 32349 non-null float64\n",
      "amenities                 32349 non-null object\n",
      "accommodates              32349 non-null int64\n",
      "bathrooms                 32250 non-null float64\n",
      "cleaning_fee              32349 non-null bool\n",
      "host_has_profile_pic      32349 non-null int64\n",
      "host_identity_verified    32349 non-null int64\n",
      "host_response_rate        22389 non-null float64\n",
      "instant_bookable          32349 non-null int64\n",
      "number_of_reviews         32349 non-null int64\n",
      "review_scores_rating      25028 non-null float64\n",
      "bedrooms                  32302 non-null float64\n",
      "beds                      32284 non-null float64\n",
      "diffFirst                 25491 non-null float64\n",
      "diffLast                  25517 non-null float64\n",
      "diffhostsince             32173 non-null float64\n",
      "Apartment                 32349 non-null uint8\n",
      "Bed & Breakfast           32349 non-null uint8\n",
      "Boat                      32349 non-null uint8\n",
      "Boutique hotel            32349 non-null uint8\n",
      "Bungalow                  32349 non-null uint8\n",
      "Cabin                     32349 non-null uint8\n",
      "Castle                    32349 non-null uint8\n",
      "Chalet                    32349 non-null uint8\n",
      "Condominium               32349 non-null uint8\n",
      "Dorm                      32349 non-null uint8\n",
      "Earth House               32349 non-null uint8\n",
      "Guest suite               32349 non-null uint8\n",
      "Guesthouse                32349 non-null uint8\n",
      "Hostel                    32349 non-null uint8\n",
      "House                     32349 non-null uint8\n",
      "In-law                    32349 non-null uint8\n",
      "Loft                      32349 non-null uint8\n",
      "Other                     32349 non-null uint8\n",
      "Serviced apartment        32349 non-null uint8\n",
      "Tent                      32349 non-null uint8\n",
      "Timeshare                 32349 non-null uint8\n",
      "Townhouse                 32349 non-null uint8\n",
      "Vacation home             32349 non-null uint8\n",
      "Villa                     32349 non-null uint8\n",
      "Yurt                      32349 non-null uint8\n",
      "Entire home/apt           32349 non-null uint8\n",
      "Private room              32349 non-null uint8\n",
      "Shared room               32349 non-null uint8\n",
      "Airbed                    32349 non-null uint8\n",
      "Couch                     32349 non-null uint8\n",
      "Futon                     32349 non-null uint8\n",
      "Pull-out Sofa             32349 non-null uint8\n",
      "Real Bed                  32349 non-null uint8\n",
      "flexible                  32349 non-null uint8\n",
      "moderate                  32349 non-null uint8\n",
      "strict                    32349 non-null uint8\n",
      "super_strict_30           32349 non-null uint8\n",
      "super_strict_60           32349 non-null uint8\n",
      "disttocitycenter          32349 non-null float64\n",
      "dtypes: bool(1), float64(10), int64(5), object(1), uint8(38)\n",
      "memory usage: 5.2+ MB\n"
     ]
    }
   ],
   "source": [
    "df.info()"
   ]
  },
  {
   "cell_type": "markdown",
   "metadata": {},
   "source": [
    "#### get dummies of the amenities value"
   ]
  },
  {
   "cell_type": "code",
   "execution_count": 61,
   "metadata": {},
   "outputs": [],
   "source": [
    "# replace all different symbols to comma\n",
    "df.amenities = df.amenities.map(lambda am: '|'.join([i.replace('}', '').replace('{', '').replace('\"', '') for i in am.split(',')]))"
   ]
  },
  {
   "cell_type": "code",
   "execution_count": 62,
   "metadata": {},
   "outputs": [
    {
     "data": {
      "text/plain": [
       "array(['Wireless Internet', 'Air conditioning', 'Kitchen', ...,\n",
       "       'Hair dryer', 'Iron', 'Laptop friendly workspace'], dtype='<U42')"
      ]
     },
     "execution_count": 62,
     "metadata": {},
     "output_type": "execute_result"
    }
   ],
   "source": [
    "# concat the value as list\n",
    "np.concatenate(df.amenities.map(lambda am: am.split('|')).values)"
   ]
  },
  {
   "cell_type": "code",
   "execution_count": 63,
   "metadata": {
    "scrolled": true
   },
   "outputs": [
    {
     "data": {
      "text/plain": [
       "array(['', ' smooth pathway to front door', '24-hour check-in',\n",
       "       'Accessible-height bed', 'Accessible-height toilet',\n",
       "       'Air conditioning', 'Air purifier', 'BBQ grill', 'Baby bath',\n",
       "       'Baby monitor', 'Babysitter recommendations', 'Bathtub',\n",
       "       'Bathtub with shower chair', 'Beach essentials', 'Beachfront',\n",
       "       'Bed linens', 'Breakfast', 'Buzzer/wireless intercom', 'Cable TV',\n",
       "       'Carbon monoxide detector', 'Cat(s)', 'Changing table',\n",
       "       'Children’s books and toys', 'Children’s dinnerware',\n",
       "       'Cleaning before checkout', 'Coffee maker', 'Cooking basics',\n",
       "       'Crib', 'Disabled parking spot', 'Dishes and silverware',\n",
       "       'Dishwasher', 'Dog(s)', 'Doorman', 'Dryer', 'EV charger',\n",
       "       'Elevator', 'Essentials', 'Ethernet connection',\n",
       "       'Extra pillows and blankets', 'Family/kid friendly',\n",
       "       'Fire extinguisher', 'Fireplace guards', 'Firm mattress',\n",
       "       'First aid kit', 'Fixed grab bars for shower & toilet', 'Flat',\n",
       "       'Free parking on premises', 'Free parking on street',\n",
       "       'Game console', 'Garden or backyard', 'Ground floor access', 'Gym',\n",
       "       'Hair dryer', 'Handheld shower head', 'Hangers', 'Heating',\n",
       "       'High chair', 'Host greets you', 'Hot tub', 'Hot water',\n",
       "       'Hot water kettle', 'Indoor fireplace', 'Internet', 'Iron',\n",
       "       'Keypad', 'Kitchen', 'Lake access', 'Laptop friendly workspace',\n",
       "       'Lock on bedroom door', 'Lockbox', 'Long term stays allowed',\n",
       "       'Luggage dropoff allowed', 'Microwave', 'Other', 'Other pet(s)',\n",
       "       'Outlet covers', 'Oven', 'Pack ’n Play/travel crib',\n",
       "       'Patio or balcony', 'Pets allowed', 'Pets live on this property',\n",
       "       'Pocket wifi', 'Pool', 'Private bathroom', 'Private entrance',\n",
       "       'Private living room', 'Refrigerator', 'Roll-in shower with chair',\n",
       "       'Room-darkening shades', 'Safety card', 'Self Check-In', 'Shampoo',\n",
       "       'Single level home', 'Ski in/Ski out', 'Smart lock',\n",
       "       'Smoke detector', 'Smoking allowed', 'Stair gates',\n",
       "       'Step-free access', 'Stove', 'Suitable for events', 'TV',\n",
       "       'Table corner guards', 'Washer', 'Washer / Dryer', 'Waterfront',\n",
       "       'Well-lit path to entrance', 'Wheelchair accessible',\n",
       "       'Wide clearance to bed', 'Wide clearance to shower & toilet',\n",
       "       'Wide doorway', 'Wide entryway', 'Wide hallway clearance',\n",
       "       'Window guards', 'Wireless Internet',\n",
       "       'translation missing: en.hosting_amenity_49',\n",
       "       'translation missing: en.hosting_amenity_50'], dtype='<U42')"
      ]
     },
     "execution_count": 63,
     "metadata": {},
     "output_type": "execute_result"
    }
   ],
   "source": [
    "# filter the unique value from amentities\n",
    "np.unique(np.concatenate(df.amenities.map(lambda am: am.split('|'))))"
   ]
  },
  {
   "cell_type": "code",
   "execution_count": 64,
   "metadata": {},
   "outputs": [],
   "source": [
    "# store the amentites valus to amen\n",
    "amen = np.unique(np.concatenate(df.amenities.map(lambda am: am.split('|'))))[1:]\n",
    "\n",
    "# create array for value of amentites in each record\n",
    "amen_arr = np.array([df.amenities.map(lambda am: i in am) for i in amen])"
   ]
  },
  {
   "cell_type": "code",
   "execution_count": 65,
   "metadata": {},
   "outputs": [
    {
     "data": {
      "text/plain": [
       "(116, 32349)"
      ]
     },
     "execution_count": 65,
     "metadata": {},
     "output_type": "execute_result"
    }
   ],
   "source": [
    "amen_arr.shape"
   ]
  },
  {
   "cell_type": "code",
   "execution_count": 66,
   "metadata": {},
   "outputs": [],
   "source": [
    "# concat amen with df\n",
    "df_prepared = pd.concat([df, pd.DataFrame(amen_arr.T, columns = amen)], axis = 1)"
   ]
  },
  {
   "cell_type": "code",
   "execution_count": 67,
   "metadata": {},
   "outputs": [],
   "source": [
    "df_prepared.drop(['amenities'], axis = 1, inplace = True)"
   ]
  },
  {
   "cell_type": "code",
   "execution_count": 68,
   "metadata": {},
   "outputs": [],
   "source": [
    "df_prepared.rename(columns = {' smooth pathway to front door': 'smooth pathway to front door'}, inplace = True)"
   ]
  },
  {
   "cell_type": "code",
   "execution_count": 69,
   "metadata": {
    "scrolled": true
   },
   "outputs": [
    {
     "name": "stdout",
     "output_type": "stream",
     "text": [
      "<class 'pandas.core.frame.DataFrame'>\n",
      "RangeIndex: 32349 entries, 0 to 32348\n",
      "Data columns (total 170 columns):\n",
      "log_price                                     32349 non-null float64\n",
      "accommodates                                  32349 non-null int64\n",
      "bathrooms                                     32250 non-null float64\n",
      "cleaning_fee                                  32349 non-null bool\n",
      "host_has_profile_pic                          32349 non-null int64\n",
      "host_identity_verified                        32349 non-null int64\n",
      "host_response_rate                            22389 non-null float64\n",
      "instant_bookable                              32349 non-null int64\n",
      "number_of_reviews                             32349 non-null int64\n",
      "review_scores_rating                          25028 non-null float64\n",
      "bedrooms                                      32302 non-null float64\n",
      "beds                                          32284 non-null float64\n",
      "diffFirst                                     25491 non-null float64\n",
      "diffLast                                      25517 non-null float64\n",
      "diffhostsince                                 32173 non-null float64\n",
      "Apartment                                     32349 non-null uint8\n",
      "Bed & Breakfast                               32349 non-null uint8\n",
      "Boat                                          32349 non-null uint8\n",
      "Boutique hotel                                32349 non-null uint8\n",
      "Bungalow                                      32349 non-null uint8\n",
      "Cabin                                         32349 non-null uint8\n",
      "Castle                                        32349 non-null uint8\n",
      "Chalet                                        32349 non-null uint8\n",
      "Condominium                                   32349 non-null uint8\n",
      "Dorm                                          32349 non-null uint8\n",
      "Earth House                                   32349 non-null uint8\n",
      "Guest suite                                   32349 non-null uint8\n",
      "Guesthouse                                    32349 non-null uint8\n",
      "Hostel                                        32349 non-null uint8\n",
      "House                                         32349 non-null uint8\n",
      "In-law                                        32349 non-null uint8\n",
      "Loft                                          32349 non-null uint8\n",
      "Other                                         32349 non-null uint8\n",
      "Serviced apartment                            32349 non-null uint8\n",
      "Tent                                          32349 non-null uint8\n",
      "Timeshare                                     32349 non-null uint8\n",
      "Townhouse                                     32349 non-null uint8\n",
      "Vacation home                                 32349 non-null uint8\n",
      "Villa                                         32349 non-null uint8\n",
      "Yurt                                          32349 non-null uint8\n",
      "Entire home/apt                               32349 non-null uint8\n",
      "Private room                                  32349 non-null uint8\n",
      "Shared room                                   32349 non-null uint8\n",
      "Airbed                                        32349 non-null uint8\n",
      "Couch                                         32349 non-null uint8\n",
      "Futon                                         32349 non-null uint8\n",
      "Pull-out Sofa                                 32349 non-null uint8\n",
      "Real Bed                                      32349 non-null uint8\n",
      "flexible                                      32349 non-null uint8\n",
      "moderate                                      32349 non-null uint8\n",
      "strict                                        32349 non-null uint8\n",
      "super_strict_30                               32349 non-null uint8\n",
      "super_strict_60                               32349 non-null uint8\n",
      "disttocitycenter                              32349 non-null float64\n",
      "smooth pathway to front door                  32349 non-null bool\n",
      "24-hour check-in                              32349 non-null bool\n",
      "Accessible-height bed                         32349 non-null bool\n",
      "Accessible-height toilet                      32349 non-null bool\n",
      "Air conditioning                              32349 non-null bool\n",
      "Air purifier                                  32349 non-null bool\n",
      "BBQ grill                                     32349 non-null bool\n",
      "Baby bath                                     32349 non-null bool\n",
      "Baby monitor                                  32349 non-null bool\n",
      "Babysitter recommendations                    32349 non-null bool\n",
      "Bathtub                                       32349 non-null bool\n",
      "Bathtub with shower chair                     32349 non-null bool\n",
      "Beach essentials                              32349 non-null bool\n",
      "Beachfront                                    32349 non-null bool\n",
      "Bed linens                                    32349 non-null bool\n",
      "Breakfast                                     32349 non-null bool\n",
      "Buzzer/wireless intercom                      32349 non-null bool\n",
      "Cable TV                                      32349 non-null bool\n",
      "Carbon monoxide detector                      32349 non-null bool\n",
      "Cat(s)                                        32349 non-null bool\n",
      "Changing table                                32349 non-null bool\n",
      "Children’s books and toys                     32349 non-null bool\n",
      "Children’s dinnerware                         32349 non-null bool\n",
      "Cleaning before checkout                      32349 non-null bool\n",
      "Coffee maker                                  32349 non-null bool\n",
      "Cooking basics                                32349 non-null bool\n",
      "Crib                                          32349 non-null bool\n",
      "Disabled parking spot                         32349 non-null bool\n",
      "Dishes and silverware                         32349 non-null bool\n",
      "Dishwasher                                    32349 non-null bool\n",
      "Dog(s)                                        32349 non-null bool\n",
      "Doorman                                       32349 non-null bool\n",
      "Dryer                                         32349 non-null bool\n",
      "EV charger                                    32349 non-null bool\n",
      "Elevator                                      32349 non-null bool\n",
      "Essentials                                    32349 non-null bool\n",
      "Ethernet connection                           32349 non-null bool\n",
      "Extra pillows and blankets                    32349 non-null bool\n",
      "Family/kid friendly                           32349 non-null bool\n",
      "Fire extinguisher                             32349 non-null bool\n",
      "Fireplace guards                              32349 non-null bool\n",
      "Firm mattress                                 32349 non-null bool\n",
      "First aid kit                                 32349 non-null bool\n",
      "Fixed grab bars for shower & toilet           32349 non-null bool\n",
      "Flat                                          32349 non-null bool\n",
      "Free parking on premises                      32349 non-null bool\n",
      "Free parking on street                        32349 non-null bool\n",
      "Game console                                  32349 non-null bool\n",
      "Garden or backyard                            32349 non-null bool\n",
      "Ground floor access                           32349 non-null bool\n",
      "Gym                                           32349 non-null bool\n",
      "Hair dryer                                    32349 non-null bool\n",
      "Handheld shower head                          32349 non-null bool\n",
      "Hangers                                       32349 non-null bool\n",
      "Heating                                       32349 non-null bool\n",
      "High chair                                    32349 non-null bool\n",
      "Host greets you                               32349 non-null bool\n",
      "Hot tub                                       32349 non-null bool\n",
      "Hot water                                     32349 non-null bool\n",
      "Hot water kettle                              32349 non-null bool\n",
      "Indoor fireplace                              32349 non-null bool\n",
      "Internet                                      32349 non-null bool\n",
      "Iron                                          32349 non-null bool\n",
      "Keypad                                        32349 non-null bool\n",
      "Kitchen                                       32349 non-null bool\n",
      "Lake access                                   32349 non-null bool\n",
      "Laptop friendly workspace                     32349 non-null bool\n",
      "Lock on bedroom door                          32349 non-null bool\n",
      "Lockbox                                       32349 non-null bool\n",
      "Long term stays allowed                       32349 non-null bool\n",
      "Luggage dropoff allowed                       32349 non-null bool\n",
      "Microwave                                     32349 non-null bool\n",
      "Other                                         32349 non-null bool\n",
      "Other pet(s)                                  32349 non-null bool\n",
      "Outlet covers                                 32349 non-null bool\n",
      "Oven                                          32349 non-null bool\n",
      "Pack ’n Play/travel crib                      32349 non-null bool\n",
      "Patio or balcony                              32349 non-null bool\n",
      "Pets allowed                                  32349 non-null bool\n",
      "Pets live on this property                    32349 non-null bool\n",
      "Pocket wifi                                   32349 non-null bool\n",
      "Pool                                          32349 non-null bool\n",
      "Private bathroom                              32349 non-null bool\n",
      "Private entrance                              32349 non-null bool\n",
      "Private living room                           32349 non-null bool\n",
      "Refrigerator                                  32349 non-null bool\n",
      "Roll-in shower with chair                     32349 non-null bool\n",
      "Room-darkening shades                         32349 non-null bool\n",
      "Safety card                                   32349 non-null bool\n",
      "Self Check-In                                 32349 non-null bool\n",
      "Shampoo                                       32349 non-null bool\n",
      "Single level home                             32349 non-null bool\n",
      "Ski in/Ski out                                32349 non-null bool\n",
      "Smart lock                                    32349 non-null bool\n",
      "Smoke detector                                32349 non-null bool\n",
      "Smoking allowed                               32349 non-null bool\n",
      "Stair gates                                   32349 non-null bool\n",
      "Step-free access                              32349 non-null bool\n",
      "Stove                                         32349 non-null bool\n",
      "Suitable for events                           32349 non-null bool\n",
      "TV                                            32349 non-null bool\n",
      "Table corner guards                           32349 non-null bool\n",
      "Washer                                        32349 non-null bool\n",
      "Washer / Dryer                                32349 non-null bool\n",
      "Waterfront                                    32349 non-null bool\n",
      "Well-lit path to entrance                     32349 non-null bool\n",
      "Wheelchair accessible                         32349 non-null bool\n",
      "Wide clearance to bed                         32349 non-null bool\n",
      "Wide clearance to shower & toilet             32349 non-null bool\n",
      "Wide doorway                                  32349 non-null bool\n",
      "Wide entryway                                 32349 non-null bool\n",
      "Wide hallway clearance                        32349 non-null bool\n",
      "Window guards                                 32349 non-null bool\n",
      "Wireless Internet                             32349 non-null bool\n",
      "translation missing: en.hosting_amenity_49    32349 non-null bool\n",
      "translation missing: en.hosting_amenity_50    32349 non-null bool\n",
      "dtypes: bool(117), float64(10), int64(5), uint8(38)\n",
      "memory usage: 8.5 MB\n"
     ]
    }
   ],
   "source": [
    "df_prepared.info(max_cols = 200)"
   ]
  },
  {
   "cell_type": "markdown",
   "metadata": {},
   "source": [
    "### Missing values and outliers detection"
   ]
  },
  {
   "cell_type": "code",
   "execution_count": 70,
   "metadata": {
    "scrolled": true
   },
   "outputs": [
    {
     "name": "stdout",
     "output_type": "stream",
     "text": [
      "Column bathrooms has missing value\n",
      "Column host_response_rate has missing value\n",
      "Column review_scores_rating has missing value\n",
      "Column bedrooms has missing value\n",
      "Column beds has missing value\n",
      "Column diffFirst has missing value\n",
      "Column diffLast has missing value\n",
      "Column diffhostsince has missing value\n"
     ]
    }
   ],
   "source": [
    "nullcol = []\n",
    "for i in df_prepared.columns[df_prepared.isnull().any()]:\n",
    "    nullcol.append(i)\n",
    "    print('Column {0} has missing value'.format(i))"
   ]
  },
  {
   "cell_type": "code",
   "execution_count": 71,
   "metadata": {},
   "outputs": [
    {
     "data": {
      "text/plain": [
       "['bathrooms',\n",
       " 'host_response_rate',\n",
       " 'review_scores_rating',\n",
       " 'bedrooms',\n",
       " 'beds',\n",
       " 'diffFirst',\n",
       " 'diffLast',\n",
       " 'diffhostsince']"
      ]
     },
     "execution_count": 71,
     "metadata": {},
     "output_type": "execute_result"
    }
   ],
   "source": [
    "nullcol"
   ]
  },
  {
   "cell_type": "markdown",
   "metadata": {},
   "source": [
    "### Two ways for missing values\n",
    "\n",
    "- Impute with strategy"
   ]
  },
  {
   "cell_type": "markdown",
   "metadata": {},
   "source": [
    "#### Imputation for missing values"
   ]
  },
  {
   "cell_type": "code",
   "execution_count": 74,
   "metadata": {},
   "outputs": [],
   "source": [
    "df_prepared_imp = df_prepared.copy()"
   ]
  },
  {
   "cell_type": "code",
   "execution_count": 75,
   "metadata": {},
   "outputs": [
    {
     "data": {
      "text/plain": [
       "(32349, 170)"
      ]
     },
     "execution_count": 75,
     "metadata": {},
     "output_type": "execute_result"
    }
   ],
   "source": [
    "df_prepared_imp.shape"
   ]
  },
  {
   "cell_type": "code",
   "execution_count": 76,
   "metadata": {},
   "outputs": [],
   "source": [
    "from sklearn.preprocessing import Imputer\n",
    "\n",
    "# impute all missing with median\n",
    "imp = Imputer(strategy = 'median')\n",
    "\n",
    "# impute the data\n",
    "df_prepared_imp = imp.fit_transform(df_prepared_imp)"
   ]
  },
  {
   "cell_type": "code",
   "execution_count": 77,
   "metadata": {
    "scrolled": false
   },
   "outputs": [],
   "source": [
    "df_prepared_imp = pd.DataFrame(df_prepared_imp, columns = df_prepared.columns.tolist())"
   ]
  },
  {
   "cell_type": "code",
   "execution_count": 78,
   "metadata": {
    "scrolled": true
   },
   "outputs": [
    {
     "data": {
      "text/html": [
       "<div>\n",
       "<style scoped>\n",
       "    .dataframe tbody tr th:only-of-type {\n",
       "        vertical-align: middle;\n",
       "    }\n",
       "\n",
       "    .dataframe tbody tr th {\n",
       "        vertical-align: top;\n",
       "    }\n",
       "\n",
       "    .dataframe thead th {\n",
       "        text-align: right;\n",
       "    }\n",
       "</style>\n",
       "<table border=\"1\" class=\"dataframe\">\n",
       "  <thead>\n",
       "    <tr style=\"text-align: right;\">\n",
       "      <th></th>\n",
       "      <th>log_price</th>\n",
       "      <th>accommodates</th>\n",
       "      <th>bathrooms</th>\n",
       "      <th>cleaning_fee</th>\n",
       "      <th>host_has_profile_pic</th>\n",
       "      <th>host_identity_verified</th>\n",
       "      <th>host_response_rate</th>\n",
       "      <th>instant_bookable</th>\n",
       "      <th>number_of_reviews</th>\n",
       "      <th>review_scores_rating</th>\n",
       "      <th>...</th>\n",
       "      <th>Wheelchair accessible</th>\n",
       "      <th>Wide clearance to bed</th>\n",
       "      <th>Wide clearance to shower &amp; toilet</th>\n",
       "      <th>Wide doorway</th>\n",
       "      <th>Wide entryway</th>\n",
       "      <th>Wide hallway clearance</th>\n",
       "      <th>Window guards</th>\n",
       "      <th>Wireless Internet</th>\n",
       "      <th>translation missing: en.hosting_amenity_49</th>\n",
       "      <th>translation missing: en.hosting_amenity_50</th>\n",
       "    </tr>\n",
       "  </thead>\n",
       "  <tbody>\n",
       "    <tr>\n",
       "      <th>0</th>\n",
       "      <td>5.010635</td>\n",
       "      <td>3.0</td>\n",
       "      <td>1.0</td>\n",
       "      <td>1.0</td>\n",
       "      <td>1.0</td>\n",
       "      <td>1.0</td>\n",
       "      <td>100.0</td>\n",
       "      <td>0.0</td>\n",
       "      <td>2.0</td>\n",
       "      <td>100.0</td>\n",
       "      <td>...</td>\n",
       "      <td>0.0</td>\n",
       "      <td>0.0</td>\n",
       "      <td>0.0</td>\n",
       "      <td>0.0</td>\n",
       "      <td>0.0</td>\n",
       "      <td>0.0</td>\n",
       "      <td>0.0</td>\n",
       "      <td>1.0</td>\n",
       "      <td>0.0</td>\n",
       "      <td>1.0</td>\n",
       "    </tr>\n",
       "    <tr>\n",
       "      <th>1</th>\n",
       "      <td>5.129899</td>\n",
       "      <td>7.0</td>\n",
       "      <td>1.0</td>\n",
       "      <td>1.0</td>\n",
       "      <td>1.0</td>\n",
       "      <td>0.0</td>\n",
       "      <td>100.0</td>\n",
       "      <td>1.0</td>\n",
       "      <td>6.0</td>\n",
       "      <td>93.0</td>\n",
       "      <td>...</td>\n",
       "      <td>0.0</td>\n",
       "      <td>0.0</td>\n",
       "      <td>0.0</td>\n",
       "      <td>0.0</td>\n",
       "      <td>0.0</td>\n",
       "      <td>0.0</td>\n",
       "      <td>0.0</td>\n",
       "      <td>1.0</td>\n",
       "      <td>0.0</td>\n",
       "      <td>1.0</td>\n",
       "    </tr>\n",
       "    <tr>\n",
       "      <th>2</th>\n",
       "      <td>4.976734</td>\n",
       "      <td>5.0</td>\n",
       "      <td>1.0</td>\n",
       "      <td>1.0</td>\n",
       "      <td>1.0</td>\n",
       "      <td>1.0</td>\n",
       "      <td>100.0</td>\n",
       "      <td>1.0</td>\n",
       "      <td>10.0</td>\n",
       "      <td>92.0</td>\n",
       "      <td>...</td>\n",
       "      <td>0.0</td>\n",
       "      <td>0.0</td>\n",
       "      <td>0.0</td>\n",
       "      <td>0.0</td>\n",
       "      <td>0.0</td>\n",
       "      <td>0.0</td>\n",
       "      <td>0.0</td>\n",
       "      <td>1.0</td>\n",
       "      <td>0.0</td>\n",
       "      <td>1.0</td>\n",
       "    </tr>\n",
       "    <tr>\n",
       "      <th>3</th>\n",
       "      <td>4.605170</td>\n",
       "      <td>2.0</td>\n",
       "      <td>1.0</td>\n",
       "      <td>1.0</td>\n",
       "      <td>1.0</td>\n",
       "      <td>1.0</td>\n",
       "      <td>100.0</td>\n",
       "      <td>0.0</td>\n",
       "      <td>82.0</td>\n",
       "      <td>93.0</td>\n",
       "      <td>...</td>\n",
       "      <td>0.0</td>\n",
       "      <td>0.0</td>\n",
       "      <td>0.0</td>\n",
       "      <td>0.0</td>\n",
       "      <td>0.0</td>\n",
       "      <td>0.0</td>\n",
       "      <td>0.0</td>\n",
       "      <td>1.0</td>\n",
       "      <td>0.0</td>\n",
       "      <td>1.0</td>\n",
       "    </tr>\n",
       "    <tr>\n",
       "      <th>4</th>\n",
       "      <td>4.882802</td>\n",
       "      <td>2.0</td>\n",
       "      <td>1.0</td>\n",
       "      <td>1.0</td>\n",
       "      <td>1.0</td>\n",
       "      <td>1.0</td>\n",
       "      <td>71.0</td>\n",
       "      <td>0.0</td>\n",
       "      <td>26.0</td>\n",
       "      <td>86.0</td>\n",
       "      <td>...</td>\n",
       "      <td>1.0</td>\n",
       "      <td>0.0</td>\n",
       "      <td>0.0</td>\n",
       "      <td>0.0</td>\n",
       "      <td>0.0</td>\n",
       "      <td>0.0</td>\n",
       "      <td>0.0</td>\n",
       "      <td>1.0</td>\n",
       "      <td>0.0</td>\n",
       "      <td>0.0</td>\n",
       "    </tr>\n",
       "  </tbody>\n",
       "</table>\n",
       "<p>5 rows × 170 columns</p>\n",
       "</div>"
      ],
      "text/plain": [
       "   log_price  accommodates  bathrooms  cleaning_fee  host_has_profile_pic  \\\n",
       "0   5.010635           3.0        1.0           1.0                   1.0   \n",
       "1   5.129899           7.0        1.0           1.0                   1.0   \n",
       "2   4.976734           5.0        1.0           1.0                   1.0   \n",
       "3   4.605170           2.0        1.0           1.0                   1.0   \n",
       "4   4.882802           2.0        1.0           1.0                   1.0   \n",
       "\n",
       "   host_identity_verified  host_response_rate  instant_bookable  \\\n",
       "0                     1.0               100.0               0.0   \n",
       "1                     0.0               100.0               1.0   \n",
       "2                     1.0               100.0               1.0   \n",
       "3                     1.0               100.0               0.0   \n",
       "4                     1.0                71.0               0.0   \n",
       "\n",
       "   number_of_reviews  review_scores_rating  \\\n",
       "0                2.0                 100.0   \n",
       "1                6.0                  93.0   \n",
       "2               10.0                  92.0   \n",
       "3               82.0                  93.0   \n",
       "4               26.0                  86.0   \n",
       "\n",
       "                      ...                      Wheelchair accessible  \\\n",
       "0                     ...                                        0.0   \n",
       "1                     ...                                        0.0   \n",
       "2                     ...                                        0.0   \n",
       "3                     ...                                        0.0   \n",
       "4                     ...                                        1.0   \n",
       "\n",
       "   Wide clearance to bed  Wide clearance to shower & toilet  Wide doorway  \\\n",
       "0                    0.0                                0.0           0.0   \n",
       "1                    0.0                                0.0           0.0   \n",
       "2                    0.0                                0.0           0.0   \n",
       "3                    0.0                                0.0           0.0   \n",
       "4                    0.0                                0.0           0.0   \n",
       "\n",
       "   Wide entryway  Wide hallway clearance  Window guards  Wireless Internet  \\\n",
       "0            0.0                     0.0            0.0                1.0   \n",
       "1            0.0                     0.0            0.0                1.0   \n",
       "2            0.0                     0.0            0.0                1.0   \n",
       "3            0.0                     0.0            0.0                1.0   \n",
       "4            0.0                     0.0            0.0                1.0   \n",
       "\n",
       "   translation missing: en.hosting_amenity_49  \\\n",
       "0                                         0.0   \n",
       "1                                         0.0   \n",
       "2                                         0.0   \n",
       "3                                         0.0   \n",
       "4                                         0.0   \n",
       "\n",
       "   translation missing: en.hosting_amenity_50  \n",
       "0                                         1.0  \n",
       "1                                         1.0  \n",
       "2                                         1.0  \n",
       "3                                         1.0  \n",
       "4                                         0.0  \n",
       "\n",
       "[5 rows x 170 columns]"
      ]
     },
     "execution_count": 78,
     "metadata": {},
     "output_type": "execute_result"
    }
   ],
   "source": [
    "df_prepared_imp.head()"
   ]
  },
  {
   "cell_type": "markdown",
   "metadata": {},
   "source": [
    "### Statistical Summary"
   ]
  },
  {
   "cell_type": "code",
   "execution_count": 161,
   "metadata": {
    "scrolled": false
   },
   "outputs": [
    {
     "data": {
      "text/html": [
       "<div>\n",
       "<style scoped>\n",
       "    .dataframe tbody tr th:only-of-type {\n",
       "        vertical-align: middle;\n",
       "    }\n",
       "\n",
       "    .dataframe tbody tr th {\n",
       "        vertical-align: top;\n",
       "    }\n",
       "\n",
       "    .dataframe thead th {\n",
       "        text-align: right;\n",
       "    }\n",
       "</style>\n",
       "<table border=\"1\" class=\"dataframe\">\n",
       "  <thead>\n",
       "    <tr style=\"text-align: right;\">\n",
       "      <th></th>\n",
       "      <th>log_price</th>\n",
       "      <th>accommodates</th>\n",
       "      <th>bathrooms</th>\n",
       "      <th>cleaning_fee</th>\n",
       "      <th>host_has_profile_pic</th>\n",
       "      <th>host_identity_verified</th>\n",
       "      <th>host_response_rate</th>\n",
       "      <th>instant_bookable</th>\n",
       "      <th>number_of_reviews</th>\n",
       "      <th>review_scores_rating</th>\n",
       "      <th>...</th>\n",
       "      <th>Wheelchair accessible</th>\n",
       "      <th>Wide clearance to bed</th>\n",
       "      <th>Wide clearance to shower &amp; toilet</th>\n",
       "      <th>Wide doorway</th>\n",
       "      <th>Wide entryway</th>\n",
       "      <th>Wide hallway clearance</th>\n",
       "      <th>Window guards</th>\n",
       "      <th>Wireless Internet</th>\n",
       "      <th>translation missing: en.hosting_amenity_49</th>\n",
       "      <th>translation missing: en.hosting_amenity_50</th>\n",
       "    </tr>\n",
       "  </thead>\n",
       "  <tbody>\n",
       "    <tr>\n",
       "      <th>count</th>\n",
       "      <td>32349.000000</td>\n",
       "      <td>32349.000000</td>\n",
       "      <td>32349.000000</td>\n",
       "      <td>32349.000000</td>\n",
       "      <td>32349.000000</td>\n",
       "      <td>32349.000000</td>\n",
       "      <td>32349.000000</td>\n",
       "      <td>32349.000000</td>\n",
       "      <td>32349.000000</td>\n",
       "      <td>32349.000000</td>\n",
       "      <td>...</td>\n",
       "      <td>32349.000000</td>\n",
       "      <td>32349.000000</td>\n",
       "      <td>32349.000000</td>\n",
       "      <td>32349.000000</td>\n",
       "      <td>32349.000000</td>\n",
       "      <td>32349.000000</td>\n",
       "      <td>32349.000000</td>\n",
       "      <td>32349.000000</td>\n",
       "      <td>32349.000000</td>\n",
       "      <td>32349.000000</td>\n",
       "    </tr>\n",
       "    <tr>\n",
       "      <th>mean</th>\n",
       "      <td>4.719340</td>\n",
       "      <td>2.818201</td>\n",
       "      <td>1.130375</td>\n",
       "      <td>0.707564</td>\n",
       "      <td>0.991561</td>\n",
       "      <td>0.633930</td>\n",
       "      <td>95.516739</td>\n",
       "      <td>0.244953</td>\n",
       "      <td>18.121209</td>\n",
       "      <td>94.070852</td>\n",
       "      <td>...</td>\n",
       "      <td>0.060466</td>\n",
       "      <td>0.009181</td>\n",
       "      <td>0.002689</td>\n",
       "      <td>0.012365</td>\n",
       "      <td>0.006770</td>\n",
       "      <td>0.010789</td>\n",
       "      <td>0.016415</td>\n",
       "      <td>0.967696</td>\n",
       "      <td>0.286098</td>\n",
       "      <td>0.349501</td>\n",
       "    </tr>\n",
       "    <tr>\n",
       "      <th>std</th>\n",
       "      <td>0.661567</td>\n",
       "      <td>1.850809</td>\n",
       "      <td>0.398944</td>\n",
       "      <td>0.454888</td>\n",
       "      <td>0.091478</td>\n",
       "      <td>0.481736</td>\n",
       "      <td>14.816722</td>\n",
       "      <td>0.430066</td>\n",
       "      <td>32.852804</td>\n",
       "      <td>7.288181</td>\n",
       "      <td>...</td>\n",
       "      <td>0.238351</td>\n",
       "      <td>0.095379</td>\n",
       "      <td>0.051791</td>\n",
       "      <td>0.110511</td>\n",
       "      <td>0.082002</td>\n",
       "      <td>0.103308</td>\n",
       "      <td>0.127066</td>\n",
       "      <td>0.176809</td>\n",
       "      <td>0.451943</td>\n",
       "      <td>0.476820</td>\n",
       "    </tr>\n",
       "    <tr>\n",
       "      <th>min</th>\n",
       "      <td>0.000000</td>\n",
       "      <td>1.000000</td>\n",
       "      <td>0.000000</td>\n",
       "      <td>0.000000</td>\n",
       "      <td>0.000000</td>\n",
       "      <td>0.000000</td>\n",
       "      <td>0.000000</td>\n",
       "      <td>0.000000</td>\n",
       "      <td>0.000000</td>\n",
       "      <td>20.000000</td>\n",
       "      <td>...</td>\n",
       "      <td>0.000000</td>\n",
       "      <td>0.000000</td>\n",
       "      <td>0.000000</td>\n",
       "      <td>0.000000</td>\n",
       "      <td>0.000000</td>\n",
       "      <td>0.000000</td>\n",
       "      <td>0.000000</td>\n",
       "      <td>0.000000</td>\n",
       "      <td>0.000000</td>\n",
       "      <td>0.000000</td>\n",
       "    </tr>\n",
       "    <tr>\n",
       "      <th>25%</th>\n",
       "      <td>4.248495</td>\n",
       "      <td>2.000000</td>\n",
       "      <td>1.000000</td>\n",
       "      <td>0.000000</td>\n",
       "      <td>1.000000</td>\n",
       "      <td>0.000000</td>\n",
       "      <td>100.000000</td>\n",
       "      <td>0.000000</td>\n",
       "      <td>1.000000</td>\n",
       "      <td>93.000000</td>\n",
       "      <td>...</td>\n",
       "      <td>0.000000</td>\n",
       "      <td>0.000000</td>\n",
       "      <td>0.000000</td>\n",
       "      <td>0.000000</td>\n",
       "      <td>0.000000</td>\n",
       "      <td>0.000000</td>\n",
       "      <td>0.000000</td>\n",
       "      <td>1.000000</td>\n",
       "      <td>0.000000</td>\n",
       "      <td>0.000000</td>\n",
       "    </tr>\n",
       "    <tr>\n",
       "      <th>50%</th>\n",
       "      <td>4.653960</td>\n",
       "      <td>2.000000</td>\n",
       "      <td>1.000000</td>\n",
       "      <td>1.000000</td>\n",
       "      <td>1.000000</td>\n",
       "      <td>1.000000</td>\n",
       "      <td>100.000000</td>\n",
       "      <td>0.000000</td>\n",
       "      <td>5.000000</td>\n",
       "      <td>96.000000</td>\n",
       "      <td>...</td>\n",
       "      <td>0.000000</td>\n",
       "      <td>0.000000</td>\n",
       "      <td>0.000000</td>\n",
       "      <td>0.000000</td>\n",
       "      <td>0.000000</td>\n",
       "      <td>0.000000</td>\n",
       "      <td>0.000000</td>\n",
       "      <td>1.000000</td>\n",
       "      <td>0.000000</td>\n",
       "      <td>0.000000</td>\n",
       "    </tr>\n",
       "    <tr>\n",
       "      <th>75%</th>\n",
       "      <td>5.164786</td>\n",
       "      <td>4.000000</td>\n",
       "      <td>1.000000</td>\n",
       "      <td>1.000000</td>\n",
       "      <td>1.000000</td>\n",
       "      <td>1.000000</td>\n",
       "      <td>100.000000</td>\n",
       "      <td>0.000000</td>\n",
       "      <td>20.000000</td>\n",
       "      <td>98.000000</td>\n",
       "      <td>...</td>\n",
       "      <td>0.000000</td>\n",
       "      <td>0.000000</td>\n",
       "      <td>0.000000</td>\n",
       "      <td>0.000000</td>\n",
       "      <td>0.000000</td>\n",
       "      <td>0.000000</td>\n",
       "      <td>0.000000</td>\n",
       "      <td>1.000000</td>\n",
       "      <td>1.000000</td>\n",
       "      <td>1.000000</td>\n",
       "    </tr>\n",
       "    <tr>\n",
       "      <th>max</th>\n",
       "      <td>7.600402</td>\n",
       "      <td>16.000000</td>\n",
       "      <td>8.000000</td>\n",
       "      <td>1.000000</td>\n",
       "      <td>1.000000</td>\n",
       "      <td>1.000000</td>\n",
       "      <td>100.000000</td>\n",
       "      <td>1.000000</td>\n",
       "      <td>474.000000</td>\n",
       "      <td>100.000000</td>\n",
       "      <td>...</td>\n",
       "      <td>1.000000</td>\n",
       "      <td>1.000000</td>\n",
       "      <td>1.000000</td>\n",
       "      <td>1.000000</td>\n",
       "      <td>1.000000</td>\n",
       "      <td>1.000000</td>\n",
       "      <td>1.000000</td>\n",
       "      <td>1.000000</td>\n",
       "      <td>1.000000</td>\n",
       "      <td>1.000000</td>\n",
       "    </tr>\n",
       "  </tbody>\n",
       "</table>\n",
       "<p>8 rows × 168 columns</p>\n",
       "</div>"
      ],
      "text/plain": [
       "          log_price  accommodates     bathrooms  cleaning_fee  \\\n",
       "count  32349.000000  32349.000000  32349.000000  32349.000000   \n",
       "mean       4.719340      2.818201      1.130375      0.707564   \n",
       "std        0.661567      1.850809      0.398944      0.454888   \n",
       "min        0.000000      1.000000      0.000000      0.000000   \n",
       "25%        4.248495      2.000000      1.000000      0.000000   \n",
       "50%        4.653960      2.000000      1.000000      1.000000   \n",
       "75%        5.164786      4.000000      1.000000      1.000000   \n",
       "max        7.600402     16.000000      8.000000      1.000000   \n",
       "\n",
       "       host_has_profile_pic  host_identity_verified  host_response_rate  \\\n",
       "count          32349.000000            32349.000000        32349.000000   \n",
       "mean               0.991561                0.633930           95.516739   \n",
       "std                0.091478                0.481736           14.816722   \n",
       "min                0.000000                0.000000            0.000000   \n",
       "25%                1.000000                0.000000          100.000000   \n",
       "50%                1.000000                1.000000          100.000000   \n",
       "75%                1.000000                1.000000          100.000000   \n",
       "max                1.000000                1.000000          100.000000   \n",
       "\n",
       "       instant_bookable  number_of_reviews  review_scores_rating  \\\n",
       "count      32349.000000       32349.000000          32349.000000   \n",
       "mean           0.244953          18.121209             94.070852   \n",
       "std            0.430066          32.852804              7.288181   \n",
       "min            0.000000           0.000000             20.000000   \n",
       "25%            0.000000           1.000000             93.000000   \n",
       "50%            0.000000           5.000000             96.000000   \n",
       "75%            0.000000          20.000000             98.000000   \n",
       "max            1.000000         474.000000            100.000000   \n",
       "\n",
       "                          ...                      Wheelchair accessible  \\\n",
       "count                     ...                               32349.000000   \n",
       "mean                      ...                                   0.060466   \n",
       "std                       ...                                   0.238351   \n",
       "min                       ...                                   0.000000   \n",
       "25%                       ...                                   0.000000   \n",
       "50%                       ...                                   0.000000   \n",
       "75%                       ...                                   0.000000   \n",
       "max                       ...                                   1.000000   \n",
       "\n",
       "       Wide clearance to bed  Wide clearance to shower & toilet  Wide doorway  \\\n",
       "count           32349.000000                       32349.000000  32349.000000   \n",
       "mean                0.009181                           0.002689      0.012365   \n",
       "std                 0.095379                           0.051791      0.110511   \n",
       "min                 0.000000                           0.000000      0.000000   \n",
       "25%                 0.000000                           0.000000      0.000000   \n",
       "50%                 0.000000                           0.000000      0.000000   \n",
       "75%                 0.000000                           0.000000      0.000000   \n",
       "max                 1.000000                           1.000000      1.000000   \n",
       "\n",
       "       Wide entryway  Wide hallway clearance  Window guards  \\\n",
       "count   32349.000000            32349.000000   32349.000000   \n",
       "mean        0.006770                0.010789       0.016415   \n",
       "std         0.082002                0.103308       0.127066   \n",
       "min         0.000000                0.000000       0.000000   \n",
       "25%         0.000000                0.000000       0.000000   \n",
       "50%         0.000000                0.000000       0.000000   \n",
       "75%         0.000000                0.000000       0.000000   \n",
       "max         1.000000                1.000000       1.000000   \n",
       "\n",
       "       Wireless Internet  translation missing: en.hosting_amenity_49  \\\n",
       "count       32349.000000                                32349.000000   \n",
       "mean            0.967696                                    0.286098   \n",
       "std             0.176809                                    0.451943   \n",
       "min             0.000000                                    0.000000   \n",
       "25%             1.000000                                    0.000000   \n",
       "50%             1.000000                                    0.000000   \n",
       "75%             1.000000                                    1.000000   \n",
       "max             1.000000                                    1.000000   \n",
       "\n",
       "       translation missing: en.hosting_amenity_50  \n",
       "count                                32349.000000  \n",
       "mean                                     0.349501  \n",
       "std                                      0.476820  \n",
       "min                                      0.000000  \n",
       "25%                                      0.000000  \n",
       "50%                                      0.000000  \n",
       "75%                                      1.000000  \n",
       "max                                      1.000000  \n",
       "\n",
       "[8 rows x 168 columns]"
      ]
     },
     "execution_count": 161,
     "metadata": {},
     "output_type": "execute_result"
    }
   ],
   "source": [
    "# statistical summary\n",
    "df_prepared_imp.describe()"
   ]
  },
  {
   "cell_type": "code",
   "execution_count": 80,
   "metadata": {},
   "outputs": [],
   "source": [
    "corr = df_prepared_imp[['accommodates', 'beds', 'bedrooms']].corr()"
   ]
  },
  {
   "cell_type": "code",
   "execution_count": 81,
   "metadata": {
    "scrolled": true
   },
   "outputs": [
    {
     "data": {
      "image/png": "[encoded data removed]",
      "text/plain": [
       "<matplotlib.figure.Figure at 0x105b2c588>"
      ]
     },
     "metadata": {},
     "output_type": "display_data"
    }
   ],
   "source": [
    "# correlation map of the three attributes\n",
    "plt.figure(figsize = (10, 8))\n",
    "sns.heatmap(corr, annot = True);"
   ]
  },
  {
   "cell_type": "markdown",
   "metadata": {},
   "source": [
    "Accordingly, we would like to drop beds, and bedrooms."
   ]
  },
  {
   "cell_type": "code",
   "execution_count": 82,
   "metadata": {},
   "outputs": [],
   "source": [
    "df_prepared_imp.drop(['beds', 'bedrooms'], axis = 1, inplace = True)"
   ]
  },
  {
   "cell_type": "markdown",
   "metadata": {},
   "source": [
    "# Explore the data"
   ]
  },
  {
   "cell_type": "markdown",
   "metadata": {},
   "source": [
    "In general, to discuss about the price of airbnb rental, we will consider about the location, the space, number of bathrooms, ratings, accommodates, and the length of host. Therefore, we will explore the relationship among all of them."
   ]
  },
  {
   "cell_type": "code",
   "execution_count": 83,
   "metadata": {
    "scrolled": true
   },
   "outputs": [
    {
     "data": {
      "image/png": "[encoded data removed]",
      "text/plain": [
       "<matplotlib.figure.Figure at 0x10abcd550>"
      ]
     },
     "metadata": {},
     "output_type": "display_data"
    }
   ],
   "source": [
    "#Distribution Plot for log_price (dependent variable)\n",
    "sns.distplot(df_prepared_imp.log_price, norm_hist = True)\n",
    "plt.title('Histogram of log_price');"
   ]
  },
  {
   "cell_type": "markdown",
   "metadata": {},
   "source": [
    "The distribution of log price is roughly normal distributied."
   ]
  },
  {
   "cell_type": "code",
   "execution_count": 160,
   "metadata": {
    "scrolled": true
   },
   "outputs": [
    {
     "data": {
      "text/plain": [
       "array([[<matplotlib.axes._subplots.AxesSubplot object at 0x114686198>,\n",
       "        <matplotlib.axes._subplots.AxesSubplot object at 0x115830c88>],\n",
       "       [<matplotlib.axes._subplots.AxesSubplot object at 0x12abb4978>,\n",
       "        <matplotlib.axes._subplots.AxesSubplot object at 0x11165ea58>],\n",
       "       [<matplotlib.axes._subplots.AxesSubplot object at 0x12abc3940>,\n",
       "        <matplotlib.axes._subplots.AxesSubplot object at 0x11165f438>]],\n",
       "      dtype=object)"
      ]
     },
     "execution_count": 160,
     "metadata": {},
     "output_type": "execute_result"
    },
    {
     "data": {
      "image/png": "[encoded data removed]",
      "text/plain": [
       "<matplotlib.figure.Figure at 0x111a6d128>"
      ]
     },
     "metadata": {},
     "output_type": "display_data"
    }
   ],
   "source": [
    "#distribution of host_response_rate\n",
    "df_prepared_imp[['accommodates', 'bathrooms', 'diffhostsince', 'disttocitycenter', \"review_scores_rating\"]].hist(figsize = (10, 8));"
   ]
  },
  {
   "cell_type": "markdown",
   "metadata": {},
   "source": [
    "- The majority of accommodates in this data is lower than 5.\n",
    "- Most of airbnb apt/house has 1 bathroom.\n",
    "- Most of the airbnbs are already hosted for more than 500 days.\n",
    "- The airbnbs are mostly around the NYC city center (<10miles).\n",
    "- Few low rating score records in the data."
   ]
  },
  {
   "cell_type": "code",
   "execution_count": 86,
   "metadata": {
    "scrolled": true
   },
   "outputs": [
    {
     "data": {
      "image/png": "[encoded data removed]",
      "text/plain": [
       "<matplotlib.figure.Figure at 0x11469acc0>"
      ]
     },
     "metadata": {},
     "output_type": "display_data"
    }
   ],
   "source": [
    "#Comparing distance to city center (derived variable) and log_price\n",
    "sns.lmplot(x='disttocitycenter',y='log_price',fit_reg=False,data=df_prepared_imp);"
   ]
  },
  {
   "cell_type": "markdown",
   "metadata": {},
   "source": [
    "No significant relationship between distance to city center and log price."
   ]
  },
  {
   "cell_type": "code",
   "execution_count": 87,
   "metadata": {
    "scrolled": true
   },
   "outputs": [
    {
     "data": {
      "image/png": "[encoded data removed]",
      "text/plain": [
       "<matplotlib.figure.Figure at 0x105b23b00>"
      ]
     },
     "metadata": {},
     "output_type": "display_data"
    }
   ],
   "source": [
    "#Effect of review_scores w.r.t log_price\n",
    "sns.jointplot(x=\"review_scores_rating\", y=\"log_price\", data = df_prepared_imp, color = 'blue', size = 8, linewidth = 1);"
   ]
  },
  {
   "cell_type": "markdown",
   "metadata": {},
   "source": [
    "No signficant relationship showed between log price and review scores rating."
   ]
  },
  {
   "cell_type": "code",
   "execution_count": 88,
   "metadata": {
    "scrolled": true
   },
   "outputs": [
    {
     "data": {
      "image/png": "[encoded data removed]",
      "text/plain": [
       "<matplotlib.figure.Figure at 0x1127f2da0>"
      ]
     },
     "metadata": {},
     "output_type": "display_data"
    }
   ],
   "source": [
    "#number of reviews v/s log_price\n",
    "sns.residplot(x=\"number_of_reviews\", y=\"log_price\", color='blue',data=df_prepared_imp);"
   ]
  },
  {
   "cell_type": "code",
   "execution_count": 156,
   "metadata": {
    "scrolled": true
   },
   "outputs": [
    {
     "data": {
      "image/png": "[encoded data removed]",
      "text/plain": [
       "<matplotlib.figure.Figure at 0x11561c240>"
      ]
     },
     "metadata": {},
     "output_type": "display_data"
    }
   ],
   "source": [
    "# review score rating vs diffhostsince\n",
    "sns.jointplot(x = 'diffhostsince', y = 'log_price', data = df_prepared_imp, color = 'darkblue', \n",
    "             size = 8, ratio = 8);"
   ]
  },
  {
   "cell_type": "markdown",
   "metadata": {},
   "source": [
    "In short, the attributes that we considered do not show significant impact on the price. Therefore, we will go for modeling in order to mine the patterns that influence the price."
   ]
  },
  {
   "cell_type": "markdown",
   "metadata": {},
   "source": [
    "# Modeling"
   ]
  },
  {
   "cell_type": "markdown",
   "metadata": {},
   "source": [
    "## Train and test split"
   ]
  },
  {
   "cell_type": "code",
   "execution_count": 89,
   "metadata": {},
   "outputs": [],
   "source": [
    "from sklearn.model_selection import train_test_split"
   ]
  },
  {
   "cell_type": "code",
   "execution_count": 90,
   "metadata": {},
   "outputs": [],
   "source": [
    "X = df_prepared_imp.drop(['log_price'], axis = 1)\n",
    "y = df_prepared_imp['log_price']"
   ]
  },
  {
   "cell_type": "code",
   "execution_count": 91,
   "metadata": {},
   "outputs": [],
   "source": [
    "X_train, X_test, y_train, y_test = train_test_split(X, y, test_size = .3, random_state = 42)"
   ]
  },
  {
   "cell_type": "markdown",
   "metadata": {},
   "source": [
    "The prepared data has been split into train and test by 70/30."
   ]
  },
  {
   "cell_type": "markdown",
   "metadata": {},
   "source": [
    "## Learning Score and Validation Curve Functions"
   ]
  },
  {
   "cell_type": "code",
   "execution_count": 100,
   "metadata": {},
   "outputs": [],
   "source": [
    "# import the validation curve\n",
    "from sklearn.model_selection import validation_curve, learning_curve\n",
    "from sklearn.linear_model import Ridge, Lasso, ElasticNet"
   ]
  },
  {
   "cell_type": "code",
   "execution_count": 164,
   "metadata": {},
   "outputs": [],
   "source": [
    "# the function for plotting the validation curve\n",
    "def vcplot(model, X, y, parameter_name, parameter_range, title):\n",
    "    # this function is to plot the validation curve for regressior\n",
    "    train_scores, valid_scores = validation_curve(model, X, y,\n",
    "                                                  param_name = parameter_name,\n",
    "                                                 param_range = parameter_range,\n",
    "                                                 cv = 5, scoring = 'neg_mean_squared_error',\n",
    "                                                 n_jobs = 1)\n",
    "    train_scores_mean = np.mean(train_scores, axis = 1)\n",
    "    train_scores_std = np.std(train_scores, axis = 1)\n",
    "    valid_scores_mean = np.mean(valid_scores, axis = 1)\n",
    "    valid_scores_std = np.std(valid_scores, axis = 1)\n",
    "    \n",
    "    plt.figure()\n",
    "    plt.title(title)\n",
    "    plt.xlabel('{0}'.format(parameter_name))\n",
    "    plt.ylabel('Score')\n",
    "    plt.grid(b = True)\n",
    "    #plt.ylim(0.0, 1.1)\n",
    "    lw = 2\n",
    "    plt.semilogx(parameter_range, train_scores_mean, label = 'Training score',\n",
    "                color = 'darkorange', lw = lw)\n",
    "    plt.fill_between(parameter_range, train_scores_mean - train_scores_std,\n",
    "                     train_scores_mean + train_scores_std, alpha = 0.2,\n",
    "                    color = 'darkorange', lw = lw)\n",
    "    plt.semilogx(parameter_range, valid_scores_mean, label = 'Cross-validation score',\n",
    "                color = 'navy', lw = lw)\n",
    "    plt.fill_between(parameter_range, valid_scores_mean + valid_scores_std,\n",
    "                    valid_scores_mean - valid_scores_std, alpha = 0.2,\n",
    "                    color = 'navy', lw = lw)\n",
    "    plt.legend(loc = 'best')\n",
    "    return plt"
   ]
  },
  {
   "cell_type": "code",
   "execution_count": 171,
   "metadata": {},
   "outputs": [],
   "source": [
    "def plot_learning_curve(estimator, title, X, y, ylim=None, cv=None,\n",
    "                        n_jobs=1, train_sizes=np.linspace(.1, 1.0, 5)):\n",
    "    \"\"\"\n",
    "    Generate a simple plot of the test and training learning curve.\n",
    "\n",
    "    Parameters\n",
    "    ----------\n",
    "    estimator : object type that implements the \"fit\" and \"predict\" methods\n",
    "        An object of that type which is cloned for each validation.\n",
    "\n",
    "    title : string\n",
    "        Title for the chart.\n",
    "\n",
    "    X : array-like, shape (n_samples, n_features)\n",
    "        Training vector, where n_samples is the number of samples and\n",
    "        n_features is the number of features.\n",
    "\n",
    "    y : array-like, shape (n_samples) or (n_samples, n_features), optional\n",
    "        Target relative to X for classification or regression;\n",
    "        None for unsupervised learning.\n",
    "\n",
    "    ylim : tuple, shape (ymin, ymax), optional\n",
    "        Defines minimum and maximum yvalues plotted.\n",
    "\n",
    "    cv : int, cross-validation generator or an iterable, optional\n",
    "        Determines the cross-validation splitting strategy.\n",
    "        Possible inputs for cv are:\n",
    "          - None, to use the default 3-fold cross-validation,\n",
    "          - integer, to specify the number of folds.\n",
    "          - An object to be used as a cross-validation generator.\n",
    "          - An iterable yielding train/test splits.\n",
    "\n",
    "        For integer/None inputs, if ``y`` is binary or multiclass,\n",
    "        :class:`StratifiedKFold` used. If the estimator is not a classifier\n",
    "        or if ``y`` is neither binary nor multiclass, :class:`KFold` is used.\n",
    "\n",
    "        Refer :ref:`User Guide <cross_validation>` for the various\n",
    "        cross-validators that can be used here.\n",
    "\n",
    "    n_jobs : integer, optional\n",
    "        Number of jobs to run in parallel (default 1).\n",
    "    \"\"\"\n",
    "    plt.figure()\n",
    "    plt.title(title)\n",
    "    if ylim is not None:\n",
    "        plt.ylim(*ylim)\n",
    "    plt.xlabel(\"Training examples\")\n",
    "    plt.ylabel(\"Score\")\n",
    "    train_sizes, train_scores, test_scores = learning_curve(\n",
    "        estimator, X, y, cv=cv, n_jobs=n_jobs, train_sizes=train_sizes, scoring = 'neg_mean_squared_error')\n",
    "    train_scores_mean = np.mean(train_scores, axis=1)\n",
    "    train_scores_std = np.std(train_scores, axis=1)\n",
    "    test_scores_mean = np.mean(test_scores, axis=1)\n",
    "    test_scores_std = np.std(test_scores, axis=1)\n",
    "    plt.grid(b = True)\n",
    "\n",
    "    plt.fill_between(train_sizes, train_scores_mean - train_scores_std,\n",
    "                     train_scores_mean + train_scores_std, alpha=0.1,\n",
    "                     color=\"r\")\n",
    "    plt.fill_between(train_sizes, test_scores_mean - test_scores_std,\n",
    "                     test_scores_mean + test_scores_std, alpha=0.1, color=\"g\")\n",
    "    plt.plot(train_sizes, train_scores_mean, 'o-', color=\"r\",\n",
    "             label=\"Training score\")\n",
    "    plt.plot(train_sizes, test_scores_mean, 'o-', color=\"g\",\n",
    "             label=\"Cross-validation score\")\n",
    "\n",
    "    plt.legend(loc=\"best\")\n",
    "    return plt"
   ]
  },
  {
   "cell_type": "markdown",
   "metadata": {},
   "source": [
    "## Multiple Linear Regression, Ridge regression, LASSO."
   ]
  },
  {
   "cell_type": "code",
   "execution_count": 92,
   "metadata": {},
   "outputs": [],
   "source": [
    "from sklearn.linear_model import LinearRegression, ElasticNetCV, RidgeCV, LassoCV\n",
    "from sklearn.metrics import mean_squared_error, r2_score"
   ]
  },
  {
   "cell_type": "code",
   "execution_count": 93,
   "metadata": {},
   "outputs": [],
   "source": [
    "# set up the dataframe for storing the coefficience from models\n",
    "df_cof = pd.DataFrame({'att': X_train.columns.tolist()})"
   ]
  },
  {
   "cell_type": "code",
   "execution_count": 94,
   "metadata": {
    "scrolled": false
   },
   "outputs": [],
   "source": [
    "df_cof.set_index(['att'], inplace = True)"
   ]
  },
  {
   "cell_type": "markdown",
   "metadata": {},
   "source": [
    "#### Multiple Linear Regression"
   ]
  },
  {
   "cell_type": "code",
   "execution_count": 95,
   "metadata": {},
   "outputs": [],
   "source": [
    "# def function for calculate the mse and r2\n",
    "def evaluation(prediction):\n",
    "    # this function is to calculate both mse and r2\n",
    "    # get the mse\n",
    "    test = y_test\n",
    "    mse = mean_squared_error(test, prediction)\n",
    "    r2 = r2_score(test, prediction)\n",
    "    return mse, r2"
   ]
  },
  {
   "cell_type": "code",
   "execution_count": 96,
   "metadata": {},
   "outputs": [
    {
     "data": {
      "text/plain": [
       "LinearRegression(copy_X=True, fit_intercept=True, n_jobs=1, normalize=False)"
      ]
     },
     "execution_count": 96,
     "metadata": {},
     "output_type": "execute_result"
    }
   ],
   "source": [
    "# create the lm instance\n",
    "mlr = LinearRegression()\n",
    "# fit the model with X_train\n",
    "mlr.fit(X_train, y_train)"
   ]
  },
  {
   "cell_type": "code",
   "execution_count": 97,
   "metadata": {},
   "outputs": [
    {
     "name": "stdout",
     "output_type": "stream",
     "text": [
      "The test MSE of multiple linear regression is 0.18008402544699856\n",
      "The test R2 of multiple linear regression is 0.5931479639769099\n"
     ]
    }
   ],
   "source": [
    "# predict the X_test\n",
    "pred_mlr = mlr.predict(X_test)\n",
    "#get the MSE\n",
    "mse_mlr, r2_mlr = evaluation(pred_mlr)\n",
    "#print the mse \n",
    "print('The test MSE of multiple linear regression is {0}'.format(mse_mlr))\n",
    "print('The test R2 of multiple linear regression is {0}'.format(r2_mlr))"
   ]
  },
  {
   "cell_type": "code",
   "execution_count": 98,
   "metadata": {},
   "outputs": [],
   "source": [
    "df_cof['mlm_coef'] = mlr.coef_"
   ]
  },
  {
   "cell_type": "code",
   "execution_count": 99,
   "metadata": {
    "scrolled": true
   },
   "outputs": [
    {
     "data": {
      "text/plain": [
       "att\n",
       "Tent                  0.857717\n",
       "super_strict_60       0.747561\n",
       "Entire home/apt       0.450511\n",
       "Washer / Dryer        0.448862\n",
       "Boutique hotel        0.379629\n",
       "Timeshare             0.309465\n",
       "Cabin                 0.280777\n",
       "Serviced apartment    0.275273\n",
       "Earth House           0.258997\n",
       "super_strict_30       0.209656\n",
       "Name: mlm_coef, dtype: float64"
      ]
     },
     "execution_count": 99,
     "metadata": {},
     "output_type": "execute_result"
    }
   ],
   "source": [
    "df_cof.mlm_coef.sort_values(ascending = False)[:10]"
   ]
  },
  {
   "cell_type": "code",
   "execution_count": 172,
   "metadata": {
    "scrolled": true
   },
   "outputs": [
    {
     "data": {
      "text/plain": [
       "<module 'matplotlib.pyplot' from '/Users/wuzirong/Documents/UMLMSBA/AdvancedDatamining/py3/lib/python3.5/site-packages/matplotlib/pyplot.py'>"
      ]
     },
     "execution_count": 172,
     "metadata": {},
     "output_type": "execute_result"
    },
    {
     "data": {
      "image/png": "[encoded data removed]",
      "text/plain": [
       "<matplotlib.figure.Figure at 0x1298eb2e8>"
      ]
     },
     "metadata": {},
     "output_type": "display_data"
    }
   ],
   "source": [
    "plot_learning_curve(mlr, 'Learning Curve', X_train, y_train, cv = 5)"
   ]
  },
  {
   "cell_type": "markdown",
   "metadata": {},
   "source": [
    "The learning curve shows the multiple linear regression performed well. Overfitting occured when the training samples greater than 10000."
   ]
  },
  {
   "cell_type": "markdown",
   "metadata": {},
   "source": [
    "#### Ridge regression cv"
   ]
  },
  {
   "cell_type": "code",
   "execution_count": 103,
   "metadata": {},
   "outputs": [],
   "source": [
    "alpha = np.linspace(0.1, 50)"
   ]
  },
  {
   "cell_type": "code",
   "execution_count": 104,
   "metadata": {},
   "outputs": [
    {
     "data": {
      "text/plain": [
       "RidgeCV(alphas=array([ 0.1    ,  1.11837,  2.13673,  3.1551 ,  4.17347,  5.19184,\n",
       "        6.2102 ,  7.22857,  8.24694,  9.26531, 10.28367, 11.30204,\n",
       "       12.32041, 13.33878, 14.35714, 15.37551, 16.39388, 17.41224,\n",
       "       18.43061, 19.44898, 20.46735, 21.48571, 22.50408, 23.52245,\n",
       "       24.54082, 25.55918...5306,\n",
       "       42.87143, 43.8898 , 44.90816, 45.92653, 46.9449 , 47.96327,\n",
       "       48.98163, 50.     ]),\n",
       "    cv=5, fit_intercept=True, gcv_mode=None, normalize=False, scoring=None,\n",
       "    store_cv_values=False)"
      ]
     },
     "execution_count": 104,
     "metadata": {},
     "output_type": "execute_result"
    }
   ],
   "source": [
    "# create ridge regression cv instance\n",
    "reg_rdcv = RidgeCV(alphas = alpha, cv = 5)\n",
    "\n",
    "# fit the model with X_train\n",
    "reg_rdcv.fit(X_train, y_train)"
   ]
  },
  {
   "cell_type": "code",
   "execution_count": 105,
   "metadata": {},
   "outputs": [
    {
     "data": {
      "text/plain": [
       "16.39387755102041"
      ]
     },
     "execution_count": 105,
     "metadata": {},
     "output_type": "execute_result"
    }
   ],
   "source": [
    "reg_rdcv.alpha_"
   ]
  },
  {
   "cell_type": "code",
   "execution_count": 106,
   "metadata": {},
   "outputs": [],
   "source": [
    "# predict values for X_test\n",
    "pred_ridcv = reg_rdcv.predict(X_test)"
   ]
  },
  {
   "cell_type": "code",
   "execution_count": 107,
   "metadata": {},
   "outputs": [
    {
     "data": {
      "text/plain": [
       "(0.1800083992434713, 0.5933188213020135)"
      ]
     },
     "execution_count": 107,
     "metadata": {},
     "output_type": "execute_result"
    }
   ],
   "source": [
    "# get the mse\n",
    "mse_ridcv, r2_ridcv = evaluation(pred_ridcv)\n",
    "mse_ridcv, r2_ridcv"
   ]
  },
  {
   "cell_type": "code",
   "execution_count": 108,
   "metadata": {},
   "outputs": [],
   "source": [
    "df_cof['ridgecv_coef'] = reg_rdcv.coef_"
   ]
  },
  {
   "cell_type": "code",
   "execution_count": 168,
   "metadata": {
    "scrolled": true
   },
   "outputs": [
    {
     "data": {
      "image/png": "[encoded data removed]",
      "text/plain": [
       "<matplotlib.figure.Figure at 0x115733f60>"
      ]
     },
     "metadata": {},
     "output_type": "display_data"
    }
   ],
   "source": [
    "vcplot(Ridge(), X_train, y_train, 'alpha', [0.1, 1, 10, 100, 1000],\n",
    "      title = 'Validation curve of Ridge regression with 5-fold cv');\n"
   ]
  },
  {
   "cell_type": "code",
   "execution_count": 173,
   "metadata": {
    "scrolled": false
   },
   "outputs": [
    {
     "data": {
      "image/png": "[encoded data removed]",
      "text/plain": [
       "<matplotlib.figure.Figure at 0x12a25cb38>"
      ]
     },
     "metadata": {},
     "output_type": "display_data"
    }
   ],
   "source": [
    "plot_learning_curve(Ridge(), 'Learning curve(Ridge Regression)',\n",
    "                   X_train, y_train, cv = 5);"
   ]
  },
  {
   "cell_type": "markdown",
   "metadata": {},
   "source": [
    "With the alpha grows up, the performence of the Ridge regression goes down. The training scores are in the range of cross validation scores, therefore, the Ridge regression performs pretty good."
   ]
  },
  {
   "cell_type": "code",
   "execution_count": 111,
   "metadata": {
    "scrolled": true
   },
   "outputs": [
    {
     "data": {
      "text/html": [
       "<div>\n",
       "<style scoped>\n",
       "    .dataframe tbody tr th:only-of-type {\n",
       "        vertical-align: middle;\n",
       "    }\n",
       "\n",
       "    .dataframe tbody tr th {\n",
       "        vertical-align: top;\n",
       "    }\n",
       "\n",
       "    .dataframe thead th {\n",
       "        text-align: right;\n",
       "    }\n",
       "</style>\n",
       "<table border=\"1\" class=\"dataframe\">\n",
       "  <thead>\n",
       "    <tr style=\"text-align: right;\">\n",
       "      <th></th>\n",
       "      <th>mlm_coef</th>\n",
       "      <th>ridgecv_coef</th>\n",
       "    </tr>\n",
       "    <tr>\n",
       "      <th>att</th>\n",
       "      <th></th>\n",
       "      <th></th>\n",
       "    </tr>\n",
       "  </thead>\n",
       "  <tbody>\n",
       "    <tr>\n",
       "      <th>Entire home/apt</th>\n",
       "      <td>0.450511</td>\n",
       "      <td>0.447046</td>\n",
       "    </tr>\n",
       "    <tr>\n",
       "      <th>Timeshare</th>\n",
       "      <td>0.309465</td>\n",
       "      <td>0.225357</td>\n",
       "    </tr>\n",
       "    <tr>\n",
       "      <th>Indoor fireplace</th>\n",
       "      <td>0.193902</td>\n",
       "      <td>0.192368</td>\n",
       "    </tr>\n",
       "    <tr>\n",
       "      <th>Boutique hotel</th>\n",
       "      <td>0.379629</td>\n",
       "      <td>0.180798</td>\n",
       "    </tr>\n",
       "    <tr>\n",
       "      <th>Doorman</th>\n",
       "      <td>0.160926</td>\n",
       "      <td>0.158928</td>\n",
       "    </tr>\n",
       "    <tr>\n",
       "      <th>Dishwasher</th>\n",
       "      <td>0.148436</td>\n",
       "      <td>0.144865</td>\n",
       "    </tr>\n",
       "    <tr>\n",
       "      <th>Washer / Dryer</th>\n",
       "      <td>0.448862</td>\n",
       "      <td>0.144067</td>\n",
       "    </tr>\n",
       "    <tr>\n",
       "      <th>bathrooms</th>\n",
       "      <td>0.116708</td>\n",
       "      <td>0.115261</td>\n",
       "    </tr>\n",
       "    <tr>\n",
       "      <th>super_strict_30</th>\n",
       "      <td>0.209656</td>\n",
       "      <td>0.107935</td>\n",
       "    </tr>\n",
       "    <tr>\n",
       "      <th>Pool</th>\n",
       "      <td>0.116776</td>\n",
       "      <td>0.107610</td>\n",
       "    </tr>\n",
       "  </tbody>\n",
       "</table>\n",
       "</div>"
      ],
      "text/plain": [
       "                  mlm_coef  ridgecv_coef\n",
       "att                                     \n",
       "Entire home/apt   0.450511      0.447046\n",
       "Timeshare         0.309465      0.225357\n",
       "Indoor fireplace  0.193902      0.192368\n",
       "Boutique hotel    0.379629      0.180798\n",
       "Doorman           0.160926      0.158928\n",
       "Dishwasher        0.148436      0.144865\n",
       "Washer / Dryer    0.448862      0.144067\n",
       "bathrooms         0.116708      0.115261\n",
       "super_strict_30   0.209656      0.107935\n",
       "Pool              0.116776      0.107610"
      ]
     },
     "execution_count": 111,
     "metadata": {},
     "output_type": "execute_result"
    }
   ],
   "source": [
    "df_cof.sort_values(by = 'ridgecv_coef', ascending = False)[:10]"
   ]
  },
  {
   "cell_type": "markdown",
   "metadata": {},
   "source": [
    "#### Lasso cv"
   ]
  },
  {
   "cell_type": "code",
   "execution_count": 112,
   "metadata": {
    "scrolled": true
   },
   "outputs": [
    {
     "data": {
      "text/plain": [
       "LassoCV(alphas=array([ 0.1    ,  1.11837,  2.13673,  3.1551 ,  4.17347,  5.19184,\n",
       "        6.2102 ,  7.22857,  8.24694,  9.26531, 10.28367, 11.30204,\n",
       "       12.32041, 13.33878, 14.35714, 15.37551, 16.39388, 17.41224,\n",
       "       18.43061, 19.44898, 20.46735, 21.48571, 22.50408, 23.52245,\n",
       "       24.54082, 25.55918...5306,\n",
       "       42.87143, 43.8898 , 44.90816, 45.92653, 46.9449 , 47.96327,\n",
       "       48.98163, 50.     ]),\n",
       "    copy_X=True, cv=5, eps=0.001, fit_intercept=True, max_iter=1000,\n",
       "    n_alphas=100, n_jobs=1, normalize=False, positive=False,\n",
       "    precompute='auto', random_state=42, selection='cyclic', tol=0.0001,\n",
       "    verbose=False)"
      ]
     },
     "execution_count": 112,
     "metadata": {},
     "output_type": "execute_result"
    }
   ],
   "source": [
    "# create lassocv instance\n",
    "reg_las = LassoCV(alphas = alpha, cv = 5, random_state = 42)\n",
    "\n",
    "# fit the model with X_train\n",
    "reg_las.fit(X_train, y_train)"
   ]
  },
  {
   "cell_type": "code",
   "execution_count": 113,
   "metadata": {},
   "outputs": [
    {
     "data": {
      "text/plain": [
       "0.1"
      ]
     },
     "execution_count": 113,
     "metadata": {},
     "output_type": "execute_result"
    }
   ],
   "source": [
    "reg_las.alpha_"
   ]
  },
  {
   "cell_type": "code",
   "execution_count": 114,
   "metadata": {},
   "outputs": [
    {
     "data": {
      "text/plain": [
       "(0.250818090211676, 0.43334312734986546)"
      ]
     },
     "execution_count": 114,
     "metadata": {},
     "output_type": "execute_result"
    }
   ],
   "source": [
    "# predict the X_test\n",
    "pred_las = reg_las.predict(X_test)\n",
    "# get the MSE\n",
    "mse_las, r2_las = evaluation(pred_las)\n",
    "mse_las, r2_las"
   ]
  },
  {
   "cell_type": "code",
   "execution_count": 115,
   "metadata": {},
   "outputs": [],
   "source": [
    "df_cof['lassocv_coef'] = reg_las.coef_"
   ]
  },
  {
   "cell_type": "code",
   "execution_count": 116,
   "metadata": {
    "scrolled": false
   },
   "outputs": [
    {
     "data": {
      "text/plain": [
       "att\n",
       "Entire home/apt               0.155189\n",
       "accommodates                  0.151938\n",
       "review_scores_rating          0.004918\n",
       "diffFirst                     0.000117\n",
       "diffhostsince                 0.000043\n",
       "Air conditioning              0.000000\n",
       "Bathtub with shower chair     0.000000\n",
       "Bathtub                       0.000000\n",
       "Babysitter recommendations    0.000000\n",
       "Baby monitor                  0.000000\n",
       "Name: lassocv_coef, dtype: float64"
      ]
     },
     "execution_count": 116,
     "metadata": {},
     "output_type": "execute_result"
    }
   ],
   "source": [
    "df_cof.lassocv_coef.sort_values(ascending = False)[:10]"
   ]
  },
  {
   "cell_type": "code",
   "execution_count": 169,
   "metadata": {
    "scrolled": false
   },
   "outputs": [
    {
     "data": {
      "image/png": "[encoded data removed]",
      "text/plain": [
       "<matplotlib.figure.Figure at 0x116563dd8>"
      ]
     },
     "metadata": {},
     "output_type": "display_data"
    }
   ],
   "source": [
    "vcplot(Lasso(), X_train, y_train, 'alpha', alpha, 'Validation Curve (LASSO)');"
   ]
  },
  {
   "cell_type": "markdown",
   "metadata": {},
   "source": [
    "The Lasso performs well. The training scores are closed with cross validation scores."
   ]
  },
  {
   "cell_type": "code",
   "execution_count": 174,
   "metadata": {
    "scrolled": true
   },
   "outputs": [
    {
     "name": "stdout",
     "output_type": "stream",
     "text": [
      "CPU times: user 1.28 s, sys: 467 ms, total: 1.75 s\n",
      "Wall time: 1.91 s\n"
     ]
    },
    {
     "data": {
      "text/plain": [
       "<module 'matplotlib.pyplot' from '/Users/wuzirong/Documents/UMLMSBA/AdvancedDatamining/py3/lib/python3.5/site-packages/matplotlib/pyplot.py'>"
      ]
     },
     "execution_count": 174,
     "metadata": {},
     "output_type": "execute_result"
    },
    {
     "data": {
      "image/png": "[encoded data removed]",
      "text/plain": [
       "<matplotlib.figure.Figure at 0x1298ebe48>"
      ]
     },
     "metadata": {},
     "output_type": "display_data"
    }
   ],
   "source": [
    "%time plot_learning_curve(Lasso(), 'Learning curve (Lasso)', X_train, y_train, cv = 5);"
   ]
  },
  {
   "cell_type": "markdown",
   "metadata": {},
   "source": [
    "With the training size grows up, the Lasso with the training set performs better."
   ]
  },
  {
   "cell_type": "markdown",
   "metadata": {},
   "source": [
    "## ElasticsNet"
   ]
  },
  {
   "cell_type": "code",
   "execution_count": 119,
   "metadata": {},
   "outputs": [],
   "source": [
    "# set up the l1_ratio\n",
    "l1_ratios = np.linspace(0.1, 0.99)"
   ]
  },
  {
   "cell_type": "code",
   "execution_count": 120,
   "metadata": {},
   "outputs": [
    {
     "name": "stdout",
     "output_type": "stream",
     "text": [
      "CPU times: user 30.2 s, sys: 2.93 s, total: 33.2 s\n",
      "Wall time: 26.7 s\n"
     ]
    },
    {
     "data": {
      "text/plain": [
       "(0.2020051699292289, 0.5436229589554253)"
      ]
     },
     "execution_count": 120,
     "metadata": {},
     "output_type": "execute_result"
    }
   ],
   "source": [
    "# create the elastics net instance\n",
    "reg_en = ElasticNetCV(l1_ratio = l1_ratios, alphas = alpha, cv = 5)\n",
    "# fit the model\n",
    "%time reg_en.fit(X_train, y_train)\n",
    "# make the prediction\n",
    "pred_en = reg_en.predict(X_test)\n",
    "# get the mse\n",
    "mse_en, r2_en = evaluation(pred_en)\n",
    "mse_en, r2_en"
   ]
  },
  {
   "cell_type": "code",
   "execution_count": 121,
   "metadata": {},
   "outputs": [
    {
     "data": {
      "text/plain": [
       "0.1"
      ]
     },
     "execution_count": 121,
     "metadata": {},
     "output_type": "execute_result"
    }
   ],
   "source": [
    "reg_en.alpha_"
   ]
  },
  {
   "cell_type": "code",
   "execution_count": 122,
   "metadata": {},
   "outputs": [
    {
     "data": {
      "text/plain": [
       "0.1"
      ]
     },
     "execution_count": 122,
     "metadata": {},
     "output_type": "execute_result"
    }
   ],
   "source": [
    "reg_en.l1_ratio_"
   ]
  },
  {
   "cell_type": "code",
   "execution_count": 123,
   "metadata": {},
   "outputs": [],
   "source": [
    "df_cof['en_coef'] = reg_en.coef_"
   ]
  },
  {
   "cell_type": "code",
   "execution_count": 124,
   "metadata": {
    "scrolled": true
   },
   "outputs": [
    {
     "data": {
      "text/plain": [
       "att\n",
       "Entire home/apt        0.266958\n",
       "accommodates           0.129186\n",
       "Elevator               0.078445\n",
       "TV                     0.068086\n",
       "Cable TV               0.053743\n",
       "Doorman                0.048474\n",
       "Dryer                  0.030651\n",
       "Washer                 0.021250\n",
       "Family/kid friendly    0.020152\n",
       "Air conditioning       0.015419\n",
       "Name: en_coef, dtype: float64"
      ]
     },
     "execution_count": 124,
     "metadata": {},
     "output_type": "execute_result"
    }
   ],
   "source": [
    "df_cof.en_coef.sort_values(ascending = False)[:10]"
   ]
  },
  {
   "cell_type": "code",
   "execution_count": 170,
   "metadata": {
    "scrolled": true
   },
   "outputs": [
    {
     "data": {
      "text/plain": [
       "<module 'matplotlib.pyplot' from '/Users/wuzirong/Documents/UMLMSBA/AdvancedDatamining/py3/lib/python3.5/site-packages/matplotlib/pyplot.py'>"
      ]
     },
     "execution_count": 170,
     "metadata": {},
     "output_type": "execute_result"
    },
    {
     "data": {
      "image/png": "[encoded data removed]",
      "text/plain": [
       "<matplotlib.figure.Figure at 0x1157027f0>"
      ]
     },
     "metadata": {},
     "output_type": "display_data"
    }
   ],
   "source": [
    "vcplot(ElasticNet(reg_en.alpha_), X_train, y_train, 'l1_ratio', l1_ratios, 'Validation Curve(ElasticNet)')"
   ]
  },
  {
   "cell_type": "markdown",
   "metadata": {},
   "source": [
    "With the best alpha of the ElasticNet, the training set score is very close with the cross validation score, it indicates that the ElasticNet performs well with the training set."
   ]
  },
  {
   "cell_type": "code",
   "execution_count": 175,
   "metadata": {
    "scrolled": false
   },
   "outputs": [
    {
     "name": "stdout",
     "output_type": "stream",
     "text": [
      "CPU times: user 1.19 s, sys: 434 ms, total: 1.63 s\n",
      "Wall time: 1.67 s\n"
     ]
    },
    {
     "data": {
      "text/plain": [
       "<module 'matplotlib.pyplot' from '/Users/wuzirong/Documents/UMLMSBA/AdvancedDatamining/py3/lib/python3.5/site-packages/matplotlib/pyplot.py'>"
      ]
     },
     "execution_count": 175,
     "metadata": {},
     "output_type": "execute_result"
    },
    {
     "data": {
      "image/png": "[encoded data removed]",
      "text/plain": [
       "<matplotlib.figure.Figure at 0x127f36550>"
      ]
     },
     "metadata": {},
     "output_type": "display_data"
    }
   ],
   "source": [
    "%time plot_learning_curve(ElasticNet(), 'Learning curve (ElasticNet)', X_train, y_train, cv = 5);"
   ]
  },
  {
   "cell_type": "markdown",
   "metadata": {},
   "source": [
    "The learning curves are fluctuant of ElasticNet. However, with the size of training examples grows up, the scores of Training set and cross-validation approach to the same."
   ]
  },
  {
   "cell_type": "markdown",
   "metadata": {},
   "source": [
    "## DecisionTree Regressor and Random Forest "
   ]
  },
  {
   "cell_type": "code",
   "execution_count": 162,
   "metadata": {},
   "outputs": [],
   "source": [
    "from sklearn.tree import DecisionTreeRegressor\n",
    "from sklearn.pipeline import Pipeline\n",
    "from sklearn.preprocessing import StandardScaler\n",
    "from sklearn.model_selection import cross_val_score"
   ]
  },
  {
   "cell_type": "code",
   "execution_count": 128,
   "metadata": {},
   "outputs": [],
   "source": [
    "#Regression using Decision Tree (with default parameters)\n",
    "regressor_DT = DecisionTreeRegressor(random_state=42)\n",
    "# set up the pipeline\n",
    "pipe = Pipeline([('scaler', StandardScaler()),\n",
    "                ('DecisionTreeRegressor', regressor_DT)])"
   ]
  },
  {
   "cell_type": "code",
   "execution_count": 129,
   "metadata": {},
   "outputs": [],
   "source": [
    "pipe.fit(X_train,y_train)\n",
    "pred_dtreg = pipe.predict(X_test)"
   ]
  },
  {
   "cell_type": "code",
   "execution_count": 130,
   "metadata": {},
   "outputs": [
    {
     "data": {
      "text/plain": [
       "(0.34160276315808585, 0.22823926577049403)"
      ]
     },
     "execution_count": 130,
     "metadata": {},
     "output_type": "execute_result"
    }
   ],
   "source": [
    "# get MSE\n",
    "mse_dtreg = mean_squared_error(y_test, pred_dtreg)\n",
    "# get r2\n",
    "r2_dtreg = r2_score(y_test, pred_dtreg)\n",
    "mse_dtreg, r2_dtreg"
   ]
  },
  {
   "cell_type": "code",
   "execution_count": 131,
   "metadata": {},
   "outputs": [],
   "source": [
    "df_cof['dt_coef'] = regressor_DT.feature_importances_"
   ]
  },
  {
   "cell_type": "code",
   "execution_count": 176,
   "metadata": {
    "scrolled": false
   },
   "outputs": [
    {
     "data": {
      "image/png": "[encoded data removed]",
      "text/plain": [
       "<matplotlib.figure.Figure at 0x127f614a8>"
      ]
     },
     "metadata": {},
     "output_type": "display_data"
    }
   ],
   "source": [
    "plot_learning_curve(regressor_DT, 'Learning curve (Decision Tree)', X_train, y_train, cv = 5);"
   ]
  },
  {
   "cell_type": "markdown",
   "metadata": {},
   "source": [
    "Obviously, the overfitting is occured. The Decision Tree gets 0 MSE in this training set."
   ]
  },
  {
   "cell_type": "markdown",
   "metadata": {},
   "source": [
    "### Random Forest"
   ]
  },
  {
   "cell_type": "code",
   "execution_count": 133,
   "metadata": {},
   "outputs": [],
   "source": [
    "from sklearn.ensemble import RandomForestRegressor\n",
    "regressor_RF = RandomForestRegressor(n_estimators=20,random_state=42)\n",
    "regressor_RF.fit(X_train,y_train)\n",
    "y_pred_RF = regressor_RF.predict(X_test)"
   ]
  },
  {
   "cell_type": "code",
   "execution_count": 134,
   "metadata": {},
   "outputs": [
    {
     "data": {
      "text/plain": [
       "(0.16879605987884397, 0.6186501247741423)"
      ]
     },
     "execution_count": 134,
     "metadata": {},
     "output_type": "execute_result"
    }
   ],
   "source": [
    "mse_rf, r2_rf = evaluation(y_pred_RF)\n",
    "mse_rf, r2_rf"
   ]
  },
  {
   "cell_type": "code",
   "execution_count": 135,
   "metadata": {},
   "outputs": [],
   "source": [
    "df_cof['rf_coef'] = regressor_RF.feature_importances_"
   ]
  },
  {
   "cell_type": "code",
   "execution_count": 177,
   "metadata": {
    "scrolled": true
   },
   "outputs": [
    {
     "data": {
      "text/plain": [
       "<module 'matplotlib.pyplot' from '/Users/wuzirong/Documents/UMLMSBA/AdvancedDatamining/py3/lib/python3.5/site-packages/matplotlib/pyplot.py'>"
      ]
     },
     "execution_count": 177,
     "metadata": {},
     "output_type": "execute_result"
    },
    {
     "data": {
      "image/png": "[encoded data removed]",
      "text/plain": [
       "<matplotlib.figure.Figure at 0x1127026a0>"
      ]
     },
     "metadata": {},
     "output_type": "display_data"
    }
   ],
   "source": [
    "plot_learning_curve(regressor_RF, 'Learning Curve (Random Forest)', X_train, y_train, cv = 5)"
   ]
  },
  {
   "cell_type": "code",
   "execution_count": 178,
   "metadata": {
    "scrolled": true
   },
   "outputs": [
    {
     "data": {
      "text/plain": [
       "<module 'matplotlib.pyplot' from '/Users/wuzirong/Documents/UMLMSBA/AdvancedDatamining/py3/lib/python3.5/site-packages/matplotlib/pyplot.py'>"
      ]
     },
     "execution_count": 178,
     "metadata": {},
     "output_type": "execute_result"
    },
    {
     "data": {
      "image/png": "[encoded data removed]",
      "text/plain": [
       "<matplotlib.figure.Figure at 0x1126f9080>"
      ]
     },
     "metadata": {},
     "output_type": "display_data"
    }
   ],
   "source": [
    "vcplot(RandomForestRegressor(random_state = 42), X_train, y_train, 'n_estimators', np.arange(10, 30, 2), \n",
    "      'Validation Curve (RandomForest)')"
   ]
  },
  {
   "cell_type": "markdown",
   "metadata": {},
   "source": [
    "The validation curve and learning curve show the Random Forest is overfitting."
   ]
  },
  {
   "cell_type": "markdown",
   "metadata": {},
   "source": [
    "## GridsearchCV in Decision Tree"
   ]
  },
  {
   "cell_type": "code",
   "execution_count": 144,
   "metadata": {
    "scrolled": true
   },
   "outputs": [
    {
     "data": {
      "text/plain": [
       "GridSearchCV(cv=5, error_score='raise',\n",
       "       estimator=DecisionTreeRegressor(criterion='mse', max_depth=None, max_features=None,\n",
       "           max_leaf_nodes=None, min_impurity_decrease=0.0,\n",
       "           min_impurity_split=None, min_samples_leaf=1,\n",
       "           min_samples_split=2, min_weight_fraction_leaf=0.0,\n",
       "           presort=False, random_state=42, splitter='best'),\n",
       "       fit_params=None, iid=True, n_jobs=1,\n",
       "       param_grid={'max_depth': array([ 3,  4,  5,  6,  7,  8,  9, 10, 11, 12, 13, 14, 15, 16, 17, 18, 19]), 'min_samples_split': array([2, 3, 4, 5, 6, 7, 8, 9])},\n",
       "       pre_dispatch='2*n_jobs', refit=True, return_train_score='warn',\n",
       "       scoring=None, verbose=0)"
      ]
     },
     "execution_count": 144,
     "metadata": {},
     "output_type": "execute_result"
    }
   ],
   "source": [
    "#Applyin Hyper-parameter tuning (GridSearchCV for Decision Tree)\n",
    "from sklearn.model_selection import GridSearchCV\n",
    "parameters = {\n",
    "    'max_depth': np.arange(3, 20),\n",
    "    'min_samples_split': np.arange(2, 10)\n",
    "}\n",
    "grid_search_DT = GridSearchCV(regressor_DT, parameters, cv=5)\n",
    "grid_search_DT.fit(X_train, y_train)"
   ]
  },
  {
   "cell_type": "code",
   "execution_count": 145,
   "metadata": {
    "scrolled": true
   },
   "outputs": [
    {
     "name": "stdout",
     "output_type": "stream",
     "text": [
      "0.5628441448139354 \n",
      " DecisionTreeRegressor(criterion='mse', max_depth=7, max_features=None,\n",
      "           max_leaf_nodes=None, min_impurity_decrease=0.0,\n",
      "           min_impurity_split=None, min_samples_leaf=1,\n",
      "           min_samples_split=6, min_weight_fraction_leaf=0.0,\n",
      "           presort=False, random_state=42, splitter='best')\n"
     ]
    }
   ],
   "source": [
    "print(grid_search_DT.best_score_, '\\n', grid_search_DT.best_estimator_)"
   ]
  },
  {
   "cell_type": "code",
   "execution_count": 146,
   "metadata": {},
   "outputs": [
    {
     "data": {
      "text/plain": [
       "(0.1896572580208574, 0.5715197870504487)"
      ]
     },
     "execution_count": 146,
     "metadata": {},
     "output_type": "execute_result"
    }
   ],
   "source": [
    "pred_gs = grid_search_DT.predict(X_test)\n",
    "#get mse\n",
    "mse_gs, r2_gs = evaluation(pred_gs)\n",
    "mse_gs, r2_gs"
   ]
  },
  {
   "cell_type": "code",
   "execution_count": 180,
   "metadata": {
    "scrolled": true
   },
   "outputs": [
    {
     "name": "stdout",
     "output_type": "stream",
     "text": [
      "CPU times: user 15min 34s, sys: 34.9 s, total: 16min 9s\n",
      "Wall time: 16min 23s\n"
     ]
    },
    {
     "data": {
      "text/plain": [
       "<module 'matplotlib.pyplot' from '/Users/wuzirong/Documents/UMLMSBA/AdvancedDatamining/py3/lib/python3.5/site-packages/matplotlib/pyplot.py'>"
      ]
     },
     "execution_count": 180,
     "metadata": {},
     "output_type": "execute_result"
    },
    {
     "data": {
      "image/png": "[encoded data removed]",
      "text/plain": [
       "<matplotlib.figure.Figure at 0x12ab6ef98>"
      ]
     },
     "metadata": {},
     "output_type": "display_data"
    }
   ],
   "source": [
    "%time plot_learning_curve(grid_search_DT, 'Learning Curve (GridSearch DT)', X_train, y_train)"
   ]
  },
  {
   "cell_type": "markdown",
   "metadata": {},
   "source": [
    "GridSearch Cross Validation of Decision Tree also occured overfitting."
   ]
  },
  {
   "cell_type": "markdown",
   "metadata": {},
   "source": [
    "## MSEs"
   ]
  },
  {
   "cell_type": "code",
   "execution_count": 147,
   "metadata": {},
   "outputs": [],
   "source": [
    "df_mse = pd.DataFrame({'Models': ['multipleLinear', 'RidgeRegression', 'LASSO', 'ElasticNet', 'DecisionTree','GridSearchCV', 'Random Forest'],\n",
    "                      'MSEs': [mse_mlr, mse_ridcv, mse_las, mse_en, mse_dtreg, mse_gs, mse_rf],\n",
    "                      'R2': [r2_mlr, r2_ridcv, r2_las, r2_en, r2_dtreg, r2_gs, r2_rf]})"
   ]
  },
  {
   "cell_type": "code",
   "execution_count": 149,
   "metadata": {},
   "outputs": [],
   "source": [
    "df_mse.set_index('Models', inplace = True)"
   ]
  },
  {
   "cell_type": "code",
   "execution_count": 148,
   "metadata": {
    "scrolled": true
   },
   "outputs": [
    {
     "data": {
      "text/html": [
       "<div>\n",
       "<style scoped>\n",
       "    .dataframe tbody tr th:only-of-type {\n",
       "        vertical-align: middle;\n",
       "    }\n",
       "\n",
       "    .dataframe tbody tr th {\n",
       "        vertical-align: top;\n",
       "    }\n",
       "\n",
       "    .dataframe thead th {\n",
       "        text-align: right;\n",
       "    }\n",
       "</style>\n",
       "<table border=\"1\" class=\"dataframe\">\n",
       "  <thead>\n",
       "    <tr style=\"text-align: right;\">\n",
       "      <th></th>\n",
       "      <th>MSEs</th>\n",
       "      <th>Models</th>\n",
       "      <th>R2</th>\n",
       "    </tr>\n",
       "  </thead>\n",
       "  <tbody>\n",
       "    <tr>\n",
       "      <th>0</th>\n",
       "      <td>0.180084</td>\n",
       "      <td>multipleLinear</td>\n",
       "      <td>0.593148</td>\n",
       "    </tr>\n",
       "    <tr>\n",
       "      <th>1</th>\n",
       "      <td>0.180008</td>\n",
       "      <td>RidgeRegression</td>\n",
       "      <td>0.593319</td>\n",
       "    </tr>\n",
       "    <tr>\n",
       "      <th>2</th>\n",
       "      <td>0.250818</td>\n",
       "      <td>LASSO</td>\n",
       "      <td>0.433343</td>\n",
       "    </tr>\n",
       "    <tr>\n",
       "      <th>3</th>\n",
       "      <td>0.202005</td>\n",
       "      <td>ElasticNet</td>\n",
       "      <td>0.543623</td>\n",
       "    </tr>\n",
       "    <tr>\n",
       "      <th>4</th>\n",
       "      <td>0.341603</td>\n",
       "      <td>DecisionTree</td>\n",
       "      <td>0.228239</td>\n",
       "    </tr>\n",
       "    <tr>\n",
       "      <th>5</th>\n",
       "      <td>0.189657</td>\n",
       "      <td>GridSearchCV</td>\n",
       "      <td>0.571520</td>\n",
       "    </tr>\n",
       "    <tr>\n",
       "      <th>6</th>\n",
       "      <td>0.168796</td>\n",
       "      <td>Random Forest</td>\n",
       "      <td>0.618650</td>\n",
       "    </tr>\n",
       "  </tbody>\n",
       "</table>\n",
       "</div>"
      ],
      "text/plain": [
       "       MSEs           Models        R2\n",
       "0  0.180084   multipleLinear  0.593148\n",
       "1  0.180008  RidgeRegression  0.593319\n",
       "2  0.250818            LASSO  0.433343\n",
       "3  0.202005       ElasticNet  0.543623\n",
       "4  0.341603     DecisionTree  0.228239\n",
       "5  0.189657     GridSearchCV  0.571520\n",
       "6  0.168796    Random Forest  0.618650"
      ]
     },
     "execution_count": 148,
     "metadata": {},
     "output_type": "execute_result"
    }
   ],
   "source": [
    "df_mse"
   ]
  },
  {
   "cell_type": "code",
   "execution_count": 150,
   "metadata": {
    "scrolled": true
   },
   "outputs": [
    {
     "data": {
      "image/png": "[encoded data removed]",
      "text/plain": [
       "<matplotlib.figure.Figure at 0x115513358>"
      ]
     },
     "metadata": {},
     "output_type": "display_data"
    }
   ],
   "source": [
    "# create barchart\n",
    "df_mse.MSEs.plot(kind = 'bar', figsize = (10, 8), title = 'MSEs of different models');"
   ]
  },
  {
   "cell_type": "code",
   "execution_count": 151,
   "metadata": {},
   "outputs": [
    {
     "data": {
      "image/png": "[encoded data removed]",
      "text/plain": [
       "<matplotlib.figure.Figure at 0x1155298d0>"
      ]
     },
     "metadata": {},
     "output_type": "display_data"
    }
   ],
   "source": [
    "df_mse.R2.plot(kind = 'bar', figsize = (10, 8), title = 'R2s of different models');"
   ]
  },
  {
   "cell_type": "code",
   "execution_count": 179,
   "metadata": {
    "scrolled": false
   },
   "outputs": [
    {
     "data": {
      "text/plain": [
       "att\n",
       "Entire home/apt         0.155189\n",
       "accommodates            0.151938\n",
       "review_scores_rating    0.004918\n",
       "diffFirst               0.000117\n",
       "diffhostsince           0.000043\n",
       "Name: lassocv_coef, dtype: float64"
      ]
     },
     "execution_count": 179,
     "metadata": {},
     "output_type": "execute_result"
    }
   ],
   "source": [
    "df_cof.lassocv_coef.sort_values(ascending = False)[:5]"
   ]
  },
  {
   "cell_type": "markdown",
   "metadata": {},
   "source": [
    "# Summary\n",
    "\n",
    "Since RandomForest and Decision fit are overfitting based on the validation curve. The multiple linear regression and Ridge regression will occur overfitting when the training size is huge.\n",
    "\n",
    "Therefore, we choose the Lasso model is the best model among the six models. The MSE 0.25 and R-squares are 0.433. It means around 43.3% of the data has been explained in the LASSO.\n",
    "\n",
    "Moreover, in the LASSO, the attributes Entire home/apt, review scores rating, accommodates,     diffhostsince, and diffFirst are the top 5 attributes of the model.\n",
    "\n",
    "Overall, most of the airbnb price were set up according to whether they are offering the entire home/apt, review scores rating, the time that they got the first review, accommodates and the length of hosting. In another words, if you want to find a low price airbnb, you'd better lower your requirement about the space and the review rating."
   ]
  }
 ],
 "metadata": {
  "kernelspec": {
   "display_name": "Python 3",
   "language": "python",
   "name": "python3"
  },
  "language_info": {
   "codemirror_mode": {
    "name": "ipython",
    "version": 3
   },
   "file_extension": ".py",
   "mimetype": "text/x-python",
   "name": "python",
   "nbconvert_exporter": "python",
   "pygments_lexer": "ipython3",
   "version": "3.5.4"
  }
 },
 "nbformat": 4,
 "nbformat_minor": 2
}
